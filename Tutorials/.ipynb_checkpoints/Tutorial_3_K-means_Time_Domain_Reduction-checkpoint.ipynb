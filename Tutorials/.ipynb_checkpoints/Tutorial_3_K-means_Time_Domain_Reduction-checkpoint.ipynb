{
 "cells": [
  {
   "cell_type": "markdown",
   "id": "7054e9e0",
   "metadata": {},
   "source": [
    "# Tutorial 3: K-Means and Time Domain Reduction"
   ]
  },
  {
   "cell_type": "markdown",
   "id": "944dff9e",
   "metadata": {},
   "source": [
    "A good tool to reduce computation time of GenX is to use <a href=\"https://genxproject.github.io/GenX/dev/methods/#Time-Domain-Reduction-(TDR)\" target=\"_blank\">Time Domain Reduction (TDR)</a>. Time Domain Reduction is a method that selects a smaller set of time steps from the data in a way that reduces computation time while still capturing the main information of the model. In this tutorial, we go over how TDR works in GenX and how it uses K-means clustering to choose the optimal time steps."
   ]
  },
  {
   "cell_type": "markdown",
   "id": "9cb4e61f",
   "metadata": {},
   "source": [
    "### Time Domain Reduction"
   ]
  },
  {
   "cell_type": "markdown",
   "id": "4456f70f",
   "metadata": {},
   "source": [
    "To see how Time Domain Reduction works, let's look at the `Load_data` in `Example_Systems_Tutorials/SmallNewEngland/OneZone/`:"
   ]
  },
  {
   "cell_type": "code",
   "execution_count": 2,
   "id": "5f8730d4",
   "metadata": {},
   "outputs": [
    {
     "data": {
      "application/vnd.webio.node+json": {
       "children": [],
       "instanceArgs": {
        "namespace": "html",
        "tag": "div"
       },
       "nodeType": "DOM",
       "props": {},
       "type": "node"
      },
      "text/html": [
       "<div style=\"padding: 1em; background-color: #f8d6da; border: 1px solid #f5c6cb; font-weight: bold;\">\n",
       "<p>The WebIO Jupyter extension was not detected. See the\n",
       "<a href=\"https://juliagizmos.github.io/WebIO.jl/latest/providers/ijulia/\" target=\"_blank\">\n",
       "    WebIO Jupyter integration documentation\n",
       "</a>\n",
       "for more information.\n",
       "</div>\n"
      ],
      "text/plain": [
       "WebIO._IJuliaInit()"
      ]
     },
     "metadata": {
      "application/vnd.webio.node+json": {
       "kernelId": "4ac939c3-6341-4323-b5ac-2df01b137ef8"
      }
     },
     "output_type": "display_data"
    },
    {
     "name": "stderr",
     "output_type": "stream",
     "text": [
      "\u001b[36m\u001b[1m[ \u001b[22m\u001b[39m\u001b[36m\u001b[1mInfo: \u001b[22m\u001b[39mmkl not found, proceeding to installing non-mkl versions of sci-kit learn via Conda\n",
      "\u001b[36m\u001b[1m[ \u001b[22m\u001b[39m\u001b[36m\u001b[1mInfo: \u001b[22m\u001b[39mRunning `conda install -y -c conda-forge 'scikit-learn>=1.2,<1.3'` in root environment\n"
     ]
    },
    {
     "name": "stdout",
     "output_type": "stream",
     "text": [
      "Retrieving notices: ...working... done\n",
      "Collecting package metadata (current_repodata.json): ...working... done\n",
      "Solving environment: ...working... done\n",
      "\n",
      "# All requested packages already installed.\n",
      "\n"
     ]
    },
    {
     "name": "stderr",
     "output_type": "stream",
     "text": [
      "\n",
      "\n",
      "==> WARNING: A newer version of conda exists. <==\n",
      "  current version: 23.3.1\n",
      "  latest version: 23.11.0\n",
      "\n",
      "Please update conda by running\n",
      "\n",
      "    $ conda update -n base -c conda-forge conda\n",
      "\n",
      "Or to minimize the number of packages updated during conda update use\n",
      "\n",
      "     conda install conda=23.11.0\n",
      "\n",
      "\n"
     ]
    },
    {
     "data": {
      "text/plain": [
       "PyObject <function make_blobs at 0x29f4116c0>"
      ]
     },
     "execution_count": 2,
     "metadata": {},
     "output_type": "execute_result"
    }
   ],
   "source": [
    "# First, load all packages needed\n",
    "using DataFrames\n",
    "using CSV\n",
    "using VegaLite\n",
    "using YAML\n",
    "using PlotlyJS\n",
    "using Plots\n",
    "using Clustering\n",
    "using ScikitLearn\n",
    "@sk_import datasets: (make_blobs)"
   ]
  },
  {
   "cell_type": "code",
   "execution_count": null,
   "id": "328f601e",
   "metadata": {},
   "outputs": [],
   "source": [
    "loads =  CSV.read(\"Example_Systems_Tutorials/SmallNewEngland/OneZone/Load_data.csv\",DataFrame,missingstring=\"NA\")"
   ]
  },
  {
   "cell_type": "markdown",
   "id": "62d2def4",
   "metadata": {},
   "source": [
    "The columns to note in this file are `Rep_Periods`, `TimeSteps_Per_Rep_Period`, `Time_Index`, and `Load_MW_z1`. This file shows the number of time steps used in GenX before applying TDR, i.e. every hour in a year, totaling 8,760 hours. This means that there is only one representative period, as seen in `Rep_Periods`."
   ]
  },
  {
   "cell_type": "markdown",
   "id": "1f6b65cd",
   "metadata": {},
   "source": [
    "TDR performs a \"reduction\" into a specified number of \"representative periods\", paring down the input data into a smaller set. The representative periods are then used in the GenX algorithm in place of the entire input data to reduce computation time. The TDR algorithm selects the representative periods to be the set of data whose results in GenX best match the results of the entire input data. To do this, TDR using k-means clustering, described in the next section."
   ]
  },
  {
   "cell_type": "markdown",
   "id": "ac5d3cee",
   "metadata": {},
   "source": [
    "When TDR is used, the file `time_domain_reduction_settings.yml` is called with a variety of specified settings, shown below:"
   ]
  },
  {
   "cell_type": "code",
   "execution_count": 20,
   "id": "3c546aca",
   "metadata": {},
   "outputs": [
    {
     "data": {
      "text/plain": [
       "Dict{Any, Any} with 15 entries:\n",
       "  \"IterativelyAddPeriods\" => 1\n",
       "  \"ExtremePeriods\"        => Dict{Any, Any}(\"Wind\"=>Dict{Any, Any}(\"System\"=>Di…\n",
       "  \"UseExtremePeriods\"     => 1\n",
       "  \"MinPeriods\"            => 40\n",
       "  \"MaxPeriods\"            => 45\n",
       "  \"LoadWeight\"            => 1\n",
       "  \"ClusterFuelPrices\"     => 1\n",
       "  \"nReps\"                 => 100\n",
       "  \"MultiStageConcatenate\" => 0\n",
       "  \"Threshold\"             => 0.05\n",
       "  \"TimestepsPerRepPeriod\" => 168\n",
       "  \"IterateMethod\"         => \"cluster\"\n",
       "  \"ScalingMethod\"         => \"S\"\n",
       "  \"ClusterMethod\"         => \"kmeans\"\n",
       "  \"WeightTotal\"           => 8760"
      ]
     },
     "execution_count": 20,
     "metadata": {},
     "output_type": "execute_result"
    }
   ],
   "source": [
    "time_domain_reduction_settings = YAML.load(open(\"Example_Systems_Tutorials/SmallNewEngland/OneZone/Settings/time_domain_reduction_settings.yml\"))"
   ]
  },
  {
   "cell_type": "markdown",
   "id": "178a7b5c",
   "metadata": {},
   "source": [
    "Important here to note are `MinPeriods` and `MaxPeriods`. As TDR is performed, it is required to keep the number of representative periods to be between the min and max specified in the settings. This is to ensure that computation time is actually decreased and that the k-means algorithm doesn't just form one large cluster of all points. Additionally, `TimestepsPerRepPeriod` is set to 168, the number of hours in a week (`WeightTotal` includes all 8,760 timesteps, the number of hours in a year.) By specifying the number of timesteps in each representative period to be a week, we form 52 clusters from which the algorithm will choose 8-11.\n",
    "\n",
    "For descriptions of all settings, see <a href=\"https://genxproject.github.io/GenX/dev/methods/#GenX.cluster_inputs\" target=\"_blank\">GenX.cluster_inputs</a> in the documentation."
   ]
  },
  {
   "cell_type": "markdown",
   "id": "2fc22b2f",
   "metadata": {},
   "source": [
    "Now back to pre-TDR. Below shows the load per timestep in megawatts for the entire dataset, i.e. with only one representative period of 8760 hours:"
   ]
  },
  {
   "cell_type": "code",
   "execution_count": null,
   "id": "6b684248",
   "metadata": {},
   "outputs": [],
   "source": [
    "loads |>\n",
    "@vlplot(:line, \n",
    "    x=:Time_Index, y=:Load_MW_z1, title=\"MW Load per hour, No TDR\",\n",
    "    width=600,height=400,linewidth=.01)"
   ]
  },
  {
   "cell_type": "markdown",
   "id": "86afb434",
   "metadata": {},
   "source": [
    "As in Tutorial 1, we can open the `genx_settings.yml` file for `SmallNewEngland/OneZone` to see how `TimeDomainReduction` is set. If it's set to 1, this means TDR is being used."
   ]
  },
  {
   "cell_type": "code",
   "execution_count": 21,
   "id": "ebb8fde0",
   "metadata": {},
   "outputs": [
    {
     "data": {
      "text/plain": [
       "Dict{Any, Any} with 21 entries:\n",
       "  \"NetworkExpansion\"                        => 0\n",
       "  \"TimeDomainReductionFolder\"               => \"TDR_Results\"\n",
       "  \"ModelingToGenerateAlternativeIterations\" => 3\n",
       "  \"ParameterScale\"                          => 1\n",
       "  \"EnergyShareRequirement\"                  => 1\n",
       "  \"PrintModel\"                              => 0\n",
       "  \"TimeDomainReduction\"                     => 1\n",
       "  \"Trans_Loss_Segments\"                     => 1\n",
       "  \"CapacityReserveMargin\"                   => 1\n",
       "  \"ModelingtoGenerateAlternativeSlack\"      => 0.1\n",
       "  \"Solver\"                                  => \"HiGHS\"\n",
       "  \"MethodofMorris\"                          => 0\n",
       "  \"Reserves\"                                => 0\n",
       "  \"StorageLosses\"                           => 1\n",
       "  \"OverwriteResults\"                        => 0\n",
       "  \"UCommit\"                                 => 2\n",
       "  \"ModelingToGenerateAlternatives\"          => 0\n",
       "  \"MaxCapReq\"                               => 1\n",
       "  \"MinCapReq\"                               => 1\n",
       "  \"CO2Cap\"                                  => 2\n",
       "  \"WriteShadowPrices\"                       => 1"
      ]
     },
     "execution_count": 21,
     "metadata": {},
     "output_type": "execute_result"
    }
   ],
   "source": [
    "genx_settings_SNE = YAML.load(open(\"Example_Systems_Tutorials/SmallNewEngland/OneZone/Settings/genx_settings.yml\"))"
   ]
  },
  {
   "cell_type": "markdown",
   "id": "1ad130ab",
   "metadata": {},
   "source": [
    "To visualize how TDR decreases computation time, let's start by running `SmallNewEngland/OneZone` without TDR. In the third section of this tutorials, we'll run the example again using TDR."
   ]
  },
  {
   "cell_type": "markdown",
   "id": "a2c0a168",
   "metadata": {},
   "source": [
    "To run GenX without TDR, we start by editing the settings to set `TimeDomainReduction` to 0:"
   ]
  },
  {
   "cell_type": "code",
   "execution_count": 22,
   "id": "d6893321",
   "metadata": {},
   "outputs": [
    {
     "data": {
      "text/plain": [
       "Dict{Any, Any} with 21 entries:\n",
       "  \"NetworkExpansion\"                        => 0\n",
       "  \"TimeDomainReductionFolder\"               => \"TDR_Results\"\n",
       "  \"ModelingToGenerateAlternativeIterations\" => 3\n",
       "  \"ParameterScale\"                          => 1\n",
       "  \"EnergyShareRequirement\"                  => 1\n",
       "  \"PrintModel\"                              => 0\n",
       "  \"TimeDomainReduction\"                     => 0\n",
       "  \"Trans_Loss_Segments\"                     => 1\n",
       "  \"CapacityReserveMargin\"                   => 1\n",
       "  \"ModelingtoGenerateAlternativeSlack\"      => 0.1\n",
       "  \"Solver\"                                  => \"HiGHS\"\n",
       "  \"MethodofMorris\"                          => 0\n",
       "  \"Reserves\"                                => 0\n",
       "  \"StorageLosses\"                           => 1\n",
       "  \"OverwriteResults\"                        => 0\n",
       "  \"UCommit\"                                 => 2\n",
       "  \"ModelingToGenerateAlternatives\"          => 0\n",
       "  \"MaxCapReq\"                               => 1\n",
       "  \"MinCapReq\"                               => 1\n",
       "  \"CO2Cap\"                                  => 2\n",
       "  \"WriteShadowPrices\"                       => 1"
      ]
     },
     "execution_count": 22,
     "metadata": {},
     "output_type": "execute_result"
    }
   ],
   "source": [
    "genx_settings_SNE[\"TimeDomainReduction\"] = 0\n",
    "genx_settings_SNE ## Output settings"
   ]
  },
  {
   "cell_type": "markdown",
   "id": "8706d925",
   "metadata": {},
   "source": [
    "Then we write the edited settings to the file path:"
   ]
  },
  {
   "cell_type": "code",
   "execution_count": 23,
   "id": "7768ac6a",
   "metadata": {},
   "outputs": [],
   "source": [
    "YAML.write_file(\"Example_Systems_Tutorials/SmallNewEngland/OneZone/Settings/genx_settings.yml\", genx_settings_SNE)"
   ]
  },
  {
   "cell_type": "code",
   "execution_count": 24,
   "id": "f30af933",
   "metadata": {},
   "outputs": [
    {
     "data": {
      "text/plain": [
       "Dict{Any, Any} with 21 entries:\n",
       "  \"NetworkExpansion\"                        => 0\n",
       "  \"TimeDomainReductionFolder\"               => \"TDR_Results\"\n",
       "  \"ModelingToGenerateAlternativeIterations\" => 3\n",
       "  \"ParameterScale\"                          => 1\n",
       "  \"EnergyShareRequirement\"                  => 1\n",
       "  \"PrintModel\"                              => 0\n",
       "  \"TimeDomainReduction\"                     => 0\n",
       "  \"Trans_Loss_Segments\"                     => 1\n",
       "  \"CapacityReserveMargin\"                   => 1\n",
       "  \"ModelingtoGenerateAlternativeSlack\"      => 0.1\n",
       "  \"Solver\"                                  => \"HiGHS\"\n",
       "  \"MethodofMorris\"                          => 0\n",
       "  \"Reserves\"                                => 0\n",
       "  \"StorageLosses\"                           => 1\n",
       "  \"OverwriteResults\"                        => 0\n",
       "  \"UCommit\"                                 => 2\n",
       "  \"ModelingToGenerateAlternatives\"          => 0\n",
       "  \"MaxCapReq\"                               => 1\n",
       "  \"MinCapReq\"                               => 1\n",
       "  \"CO2Cap\"                                  => 2\n",
       "  \"WriteShadowPrices\"                       => 1"
      ]
     },
     "execution_count": 24,
     "metadata": {},
     "output_type": "execute_result"
    }
   ],
   "source": [
    "genx_settings_SNE"
   ]
  },
  {
   "cell_type": "markdown",
   "id": "1865ad33",
   "metadata": {},
   "source": [
    "And run it using `include`. (Note: this process will take a few minutes):"
   ]
  },
  {
   "cell_type": "code",
   "execution_count": 25,
   "id": "137e9c95",
   "metadata": {},
   "outputs": [
    {
     "name": "stdout",
     "output_type": "stream",
     "text": [
      "Configuring Settings\n",
      "Configuring Solver\n",
      "Loading Inputs\n",
      "Reading Input CSV Files\n",
      "Network.csv Successfully Read!\n",
      "Load_data.csv Successfully Read!\n",
      "Fuels_data.csv Successfully Read!\n",
      "Generators_data.csv Successfully Read!\n",
      "Generators_variability.csv Successfully Read!\n",
      "Validating time basis\n",
      "Capacity_reserve_margin.csv Successfully Read!\n",
      "Minimum_capacity_requirement.csv Successfully Read!\n",
      "Maximum_capacity_requirement.csv Successfully Read!\n",
      "Energy_share_requirement.csv Successfully Read!\n",
      "CO2_cap.csv Successfully Read!\n",
      "CSV Files Successfully Read In From /Users/mayamutic/Desktop/GenX/Tutorials/Example_Systems_Tutorials/SmallNewEngland/OneZone\n",
      "Generating the Optimization Model\n",
      "Discharge Module\n",
      "Non-served Energy Module\n",
      "Investment Discharge Module\n",
      "Unit Commitment Module\n",
      "Emissions Module (for CO2 Policy modularization\n",
      "Dispatchable Resources Module\n",
      "Storage Resources Module\n",
      "Storage Investment Module\n",
      "Storage Core Resources Module\n",
      "Storage Resources with Symmetric Charge/Discharge Capacity Module\n",
      "Thermal (Unit Commitment) Resources Module\n",
      "C02 Policies Module\n",
      "Energy Share Requirement Policies Module\n",
      "Capacity Reserve Margin Policies Module\n",
      "Minimum Capacity Requirement Module\n",
      "Maximum Capacity Requirement Module\n",
      "Time elapsed for model building is\n",
      "0.580886291\n",
      "Solving Model\n",
      "Running HiGHS 1.6.0: Copyright (c) 2023 HiGHS under MIT licence terms\n",
      "Presolving model\n",
      "170620 rows, 83017 cols, 646999 nonzeros\n",
      "161830 rows, 74231 cols, 653419 nonzeros\n",
      "Presolve : Reductions: rows 161830(-30906); columns 74231(-13381); elements 653419(-134175)\n",
      "Solving the presolved LP\n",
      "Using EKK dual simplex solver - serial\n",
      "  Iteration        Objective     Infeasibilities num(sum)\n",
      "          0    -4.2035774355e+00 Ph1: 204(998.471); Du: 25(4.20358) 0s\n",
      "      12642     3.5764275943e+03 Pr: 11955(9182.32); Du: 0(0.00728473) 5s\n",
      "      26651     4.3635935743e+03 Pr: 14572(15148.8); Du: 0(0.0179147) 10s\n",
      "      33184     4.5405373140e+03 Pr: 20843(825707); Du: 0(0.00123039) 15s\n",
      "      42548     5.9451395071e+03 Pr: 32728(353893); Du: 0(0.00356487) 21s\n",
      "      47203     7.1009458054e+03 Pr: 73841(1.56222e+06); Du: 0(0.0035012) 26s\n",
      "      50536     7.4209967515e+03 Pr: 37370(223830); Du: 0(0.00312373) 31s\n",
      "      53667     7.6905232240e+03 Pr: 83489(1.062e+06); Du: 0(0.00356281) 37s\n",
      "      56412     7.9093715907e+03 Pr: 18930(64719.9); Du: 0(0.00348576) 43s\n",
      "      59109     8.1765447757e+03 Pr: 34185(98775.2); Du: 0(0.00301671) 48s\n",
      "      62079     8.5262117023e+03 Pr: 22682(108794); Du: 0(0.00332699) 54s\n",
      "      64969     8.7635201775e+03 Pr: 51292(2.25869e+06); Du: 0(0.00363651) 60s\n",
      "      67599     8.9310305666e+03 Pr: 13827(12343.3); Du: 0(0.00378113) 65s\n",
      "      70456     9.1006923120e+03 Pr: 75617(2.73017e+06); Du: 0(0.00406517) 71s\n",
      "      73185     9.2901179370e+03 Pr: 43360(2.79272e+06); Du: 0(0.00403757) 76s\n",
      "      75806     9.4643517671e+03 Pr: 21516(64994.2); Du: 0(0.00386732) 82s\n",
      "      78532     9.6336217338e+03 Pr: 44796(190594); Du: 0(0.00413485) 87s\n",
      "      81309     9.7597182304e+03 Pr: 41130(1.13256e+07); Du: 0(0.00451139) 92s\n",
      "      83967     9.8985154639e+03 Pr: 23234(137971); Du: 0(0.00479329) 98s\n",
      "      86779     1.0121578000e+04 Pr: 15895(625009); Du: 0(0.0049624) 103s\n",
      "      89809     1.0210449579e+04 Pr: 8932(2482.07); Du: 0(0.00545635) 109s\n",
      "      92931     1.0324388535e+04 Pr: 8769(2861.82); Du: 0(0.00544399) 115s\n",
      "      96287     1.0383982484e+04 Pr: 6070(989.594); Du: 0(0.00507441) 121s\n",
      "      99011     1.0413417075e+04 Pr: 5370(2731.47); Du: 0(0.00476294) 126s\n",
      "     101698     1.0463469400e+04 Pr: 53387(498097); Du: 0(0.00472515) 131s\n",
      "     104169     1.0505897364e+04 Pr: 3413(513.644); Du: 0(0.00429732) 137s\n",
      "     106664     1.0546181448e+04 Pr: 14831(50252.9); Du: 0(0.00430025) 142s\n",
      "     109454     1.0582817036e+04 Pr: 1650(282.73); Du: 0(0.00438231) 148s\n",
      "     111778     1.0592942277e+04 Pr: 0(0); Du: 0(6.25e-06) 152s\n",
      "Using EKK primal simplex solver\n",
      "  Iteration        Objective     Infeasibilities num(sum)\n",
      "     111778     1.0592942277e+04 Pr: 0(0); Du: 1(0.0001) 152s\n",
      "     111779     1.0592942277e+04 Pr: 0(0); Du: 0(3.36075e-14) 152s\n",
      "Solving the original LP from the solution after postsolve\n",
      "Model   status      : Optimal\n",
      "Simplex   iterations: 111779\n",
      "Objective value     :  1.0592942277e+04\n",
      "HiGHS run time      :        152.93\n",
      "LP solved for primal\n",
      "Writing Output\n",
      "Time elapsed for writing costs is\n",
      "0.093255084\n",
      "Time elapsed for writing storage is\n",
      "0.021644625\n",
      "Time elapsed for writing nse is\n",
      "0.060001166\n",
      "Time elapsed for writing power balance is\n",
      "0.126481416\n",
      "Time elapsed for writing emissions is\n",
      "0.094606291\n",
      "Time elapsed for writing reliability is\n",
      "0.015244333\n",
      "Time elapsed for writing storage duals is\n",
      "0.020820375\n",
      "Time elapsed for writing commitment is\n",
      "0.023492667\n",
      "Time elapsed for writing startup is\n",
      "0.066275458\n",
      "Time elapsed for writing shutdown is\n",
      "0.066409084\n",
      "Time elapsed for writing time weights is\n",
      "0.002096375\n",
      "Time elapsed for writing reserve margin is\n",
      "0.013156209\n",
      "Time elapsed for writing capacity value is\n",
      "0.101123125\n",
      "Time elapsed for writing net revenue is\n",
      "0.031454917\n",
      "Wrote outputs to /Users/mayamutic/Desktop/GenX/Tutorials/Example_Systems_Tutorials/SmallNewEngland/OneZone/Results_7\n",
      "Time elapsed for writing is\n",
      "1.282814625\n",
      "155.185802 seconds (34.36 M allocations: 1.724 GiB, 0.23% gc time, 0.15% compilation time)\n"
     ]
    }
   ],
   "source": [
    "@time include(\"Example_Systems_Tutorials/SmallNewEngland/OneZone/Run.jl\")"
   ]
  },
  {
   "cell_type": "markdown",
   "id": "bd41ae1e",
   "metadata": {},
   "source": [
    "This took a little while to run, and would take even longer for larger systems. Let's see how we can get the run time down using Time Domain Reduction. The next sections go over how K-means clustering is used to perform TDR, and how to interpret the resulting files in GenX."
   ]
  },
  {
   "cell_type": "markdown",
   "id": "da668a37",
   "metadata": {},
   "source": [
    "### K-means clustering"
   ]
  },
  {
   "cell_type": "markdown",
   "id": "379831dc",
   "metadata": {},
   "source": [
    "Let's go over how TDR works. To perform TDR, GenX uses K-means clustering. K-means is an optimization method that clusters data into several groups based on their proximity to \"centers\" determined by the algorithm. "
   ]
  },
  {
   "cell_type": "markdown",
   "id": "d1505608",
   "metadata": {},
   "source": [
    "To be more specific, k-means finds a set number of groups such that the variance between the distance of each point in the group to the mean of the group is minimized. \n",
    "\n",
    "$$\n",
    "\\begin{align*}\n",
    "\\mathop{\\arg \\min}\\limits_{\\mathbf{S}} & \\sum_{i = 1}^k \\sum_{x \\in S_i} ||x - \\mu_i||^2 \\\\\n",
    "\\end{align*}\n",
    "$$\n",
    "\n",
    "Where $\\mathbf{S} = \\{S_1, ... , S_k\\}$ are the clusters, with $x$ denoting the elements of the clusters, and $\\mu_i$ is the mean of each cluster i.e. the mean of the distances from each point to the center of the cluster. By taking the argmin over $\\mathbf{S}$, the points $x$ are clustered into groups where their distance to the center is the smallest. For more information on how k-means works, see the  <a href=\"https://en.wikipedia.org/wiki/K-means_clustering\" target=\"_blank\">Wikipedia</a>. "
   ]
  },
  {
   "cell_type": "markdown",
   "id": "8f6a69ea",
   "metadata": {},
   "source": [
    "GenX uses the package `Clustering.jl`, with documentation <a href=\"https://juliastats.org/Clustering.jl/dev/kmeans.html#K-means\" target=\"_blank\">here</a>. As an example, using the package `ScikitLearn.jl`, let's generate data that can cluster easily."
   ]
  },
  {
   "cell_type": "code",
   "execution_count": null,
   "id": "69582aa0",
   "metadata": {},
   "outputs": [],
   "source": [
    "centers = 5\n",
    "X, y = make_blobs(n_samples=50,centers=centers);\n",
    "b = DataFrame(X,:auto)"
   ]
  },
  {
   "cell_type": "markdown",
   "id": "666045cf",
   "metadata": {},
   "source": [
    "Note that clustering works for data without obvious groupings, but using blobs as an example makes k-means easier to visualize."
   ]
  },
  {
   "cell_type": "code",
   "execution_count": null,
   "id": "2f20ece0",
   "metadata": {},
   "outputs": [],
   "source": [
    "plotlyjs()\n",
    "Plots.scatter(b[!,\"x1\"],b[!,\"x2\"],legend=false,title=\"Before K-means Clustering\")"
   ]
  },
  {
   "cell_type": "markdown",
   "id": "f82515f7",
   "metadata": {},
   "source": [
    "Now we use the function `kmeans`, which is also used in `src/time_domain_reduction` in GenX."
   ]
  },
  {
   "cell_type": "code",
   "execution_count": null,
   "id": "ad777278",
   "metadata": {},
   "outputs": [],
   "source": [
    "R = kmeans(transpose(Matrix(b)),centers);"
   ]
  },
  {
   "cell_type": "markdown",
   "id": "993370fe",
   "metadata": {},
   "source": [
    "`kmeans` returns three outputs: assignments, centers, and counts. Assignments shows to which cluster each points belongs, centers shows where the center coordinates of each cluster are, and counts shows how many points belong to each cluster."
   ]
  },
  {
   "cell_type": "code",
   "execution_count": null,
   "id": "c8f956cc",
   "metadata": {
    "scrolled": true
   },
   "outputs": [],
   "source": [
    "println(\"Assignments = \",R.assignments)\n",
    "println(\"Centers = \",R.counts)\n",
    "R.centers"
   ]
  },
  {
   "cell_type": "code",
   "execution_count": null,
   "id": "822979fe",
   "metadata": {},
   "outputs": [],
   "source": [
    "plotlyjs()\n",
    "Plots.scatter(b[!,\"x1\"],b[!,\"x2\"],legend=false,marker_z=R.assignments,c=:lightrainbow,title=\"After K-means Clustering\")"
   ]
  },
  {
   "cell_type": "markdown",
   "id": "e1e88f4f",
   "metadata": {},
   "source": [
    "In GenX, the representative periods are the centers of the clusters. In this example that would mean there are 52 data points gathered into 11 clusters (to see this for yourself, change `make_blobs` to have 52 data points and 11 clusters. Note that having 11 clusters will cause the colors of some clusters to be very similar.)"
   ]
  },
  {
   "cell_type": "markdown",
   "id": "b8b957e2",
   "metadata": {},
   "source": [
    "### Results of Time Domain Reduction"
   ]
  },
  {
   "cell_type": "markdown",
   "id": "e2e1b15c",
   "metadata": {},
   "source": [
    "To visualize the results of TDR, we'll set TDR = 1 back in the `genx_settings.yml` file in `Example_Systems_Tutorials/SmallNewEngland/OneZone/`:"
   ]
  },
  {
   "cell_type": "code",
   "execution_count": null,
   "id": "cbc4c84f",
   "metadata": {},
   "outputs": [],
   "source": [
    "genx_settings_SNE[\"TimeDomainReduction\"] = 1;"
   ]
  },
  {
   "cell_type": "code",
   "execution_count": null,
   "id": "5ffa9e4a",
   "metadata": {},
   "outputs": [],
   "source": [
    "genx_settings_SNE"
   ]
  },
  {
   "cell_type": "code",
   "execution_count": null,
   "id": "8a61066a",
   "metadata": {},
   "outputs": [],
   "source": [
    "YAML.write_file(\"Example_Systems_Tutorials/SmallNewEngland/OneZone/Settings/genx_settings.yml\", genx_settings_SNE)"
   ]
  },
  {
   "cell_type": "markdown",
   "id": "035bd2cb",
   "metadata": {},
   "source": [
    "And run GenX again with TDR:"
   ]
  },
  {
   "cell_type": "code",
   "execution_count": null,
   "id": "19c3a604",
   "metadata": {},
   "outputs": [],
   "source": [
    "@time include(\"Example_Systems_Tutorials/SmallNewEngland/OneZone/Run.jl\")"
   ]
  },
  {
   "cell_type": "markdown",
   "id": "7a098f2a",
   "metadata": {},
   "source": [
    "Csv files with the results of TDR are generated automatically in a folder called `TDR_results` found within the same folder containing the input csv files, in this case `Example_Systems/SmallNewEngland/OneZone`. The csv files in this folder show the files used in `Run.jl` that have been pared down from the initial input files."
   ]
  },
  {
   "cell_type": "markdown",
   "id": "ab5f572f",
   "metadata": {},
   "source": [
    "As an example, consider the input file `Fuels_data.csv`:"
   ]
  },
  {
   "cell_type": "code",
   "execution_count": null,
   "id": "fb178f63",
   "metadata": {},
   "outputs": [],
   "source": [
    "Fuels_original = CSV.read(\"Example_Systems_Tutorials/SmallNewEngland/OneZone/Fuels_data.csv\",DataFrame,missingstring=\"NA\")\n"
   ]
  },
  {
   "cell_type": "markdown",
   "id": "a8c99fd4",
   "metadata": {},
   "source": [
    "Compared to `TDR_Results/Fuels_data.csv`:"
   ]
  },
  {
   "cell_type": "code",
   "execution_count": null,
   "id": "6c38472a",
   "metadata": {},
   "outputs": [],
   "source": [
    "Fuels_TDR = CSV.read(\"../Example_Systems/SmallNewEngland/OneZone/TDR_Results/Fuels_data.csv\",DataFrame,missingstring=\"NA\")"
   ]
  },
  {
   "cell_type": "markdown",
   "id": "3ffe9769",
   "metadata": {},
   "source": [
    "As you can see, the original has all 8,760 hours, while the TDR version only has 1,848 hours."
   ]
  },
  {
   "cell_type": "code",
   "execution_count": null,
   "id": "fc0e92fe",
   "metadata": {},
   "outputs": [],
   "source": [
    "loads_TDR = CSV.read(\"../Example_Systems/SmallNewEngland/OneZone/TDR_Results/Load_data.csv\",DataFrame,missingstring=\"NA\")"
   ]
  },
  {
   "cell_type": "markdown",
   "id": "2a86983a",
   "metadata": {},
   "source": [
    "The 1,848 hours are divided into 11 sections of 168 hours, with each section representing one week of the original data.  The number of hours per representative period is set in `time_domain_reduction_settings.yml`. Also specified in the file is the minimum and maximum number of clusters we would like to have (in this case 6 and 11). The k-means algorithm will then select the number of clusters that should be sufficient to capture the GenX model in fewer time steps (in this case 11)."
   ]
  },
  {
   "cell_type": "markdown",
   "id": "db916072",
   "metadata": {},
   "source": [
    "Below, we create arrays out of the representative weeks and plot them on the same plot used in the beginning of this tutorial. The file `Period_map` shows which periods (weeks) are used in TDR and which time step corresponds to each period:"
   ]
  },
  {
   "cell_type": "code",
   "execution_count": null,
   "id": "63710dfc",
   "metadata": {},
   "outputs": [],
   "source": [
    "\n",
    "Period_map = CSV.read(\"../Example_Systems/SmallNewEngland/OneZone/TDR_Results/Period_map.csv\",DataFrame,missingstring=\"NA\")"
   ]
  },
  {
   "cell_type": "code",
   "execution_count": null,
   "id": "23849009",
   "metadata": {},
   "outputs": [],
   "source": [
    "# Find array of unique representative periods\n",
    "rep_periods = []\n",
    "for i in Period_map[!,\"Rep_Period\"]\n",
    "    if (length(findall( x -> x == i, rep_periods)) == 0)\n",
    "        push!(rep_periods,i)\n",
    "    end\n",
    "end"
   ]
  },
  {
   "cell_type": "code",
   "execution_count": null,
   "id": "a491946e",
   "metadata": {},
   "outputs": [],
   "source": [
    "# Create an array of the time steps and MW values of each representative period\n",
    "weeks = []\n",
    "for i in rep_periods\n",
    "    week_temp = [repeat([i],168) loads[(168*i-167):168*i,8] loads[(168*i-167):168*i,9]]\n",
    "    weeks = [weeks; week_temp]\n",
    "end"
   ]
  },
  {
   "cell_type": "code",
   "execution_count": null,
   "id": "5dd13d8a",
   "metadata": {},
   "outputs": [],
   "source": [
    "# Combine with Total (pre TDR)\n",
    "loads_plot = [repeat([\"Total\"],8760) loads[!,end-1] loads[!,end]];"
   ]
  },
  {
   "cell_type": "code",
   "execution_count": null,
   "id": "8f46b99f",
   "metadata": {},
   "outputs": [],
   "source": [
    "# Add column names and convert column type\n",
    "loads_with_TDR = [loads_plot; weeks]\n",
    "loads_with_TDR = DataFrame(loads_with_TDR ,[\"Week\",\"hour\", \"MW\"])\n",
    "loads_with_TDR[!,:hour] = convert.(Int64,loads_with_TDR[!,:hour]);\n",
    "loads_with_TDR[!,:MW] = convert.(Float64,loads_with_TDR[!,:MW]);"
   ]
  },
  {
   "cell_type": "markdown",
   "id": "35ee1143",
   "metadata": {},
   "source": [
    "Here's the same plot from before but with representative weeks highlighted:"
   ]
  },
  {
   "cell_type": "code",
   "execution_count": null,
   "id": "8d389d51",
   "metadata": {},
   "outputs": [],
   "source": [
    "loads_with_TDR  |>\n",
    "@vlplot(mark={:line},\n",
    "    x={:hour,title=\"Time Step (hours)\",labels=\"Week:n\"}, y={:MW,title=\"Load (MW)\"},\n",
    "    color={\"Week:n\", scale={scheme=\"paired\"},sort=\"decsending\"}, title=\"MW Load per hour with TDR Representative Weeks\",\n",
    "    width=845,height=400)"
   ]
  },
  {
   "cell_type": "markdown",
   "id": "a0af072d",
   "metadata": {},
   "source": [
    "The range of 8-11 representative periods was chosen by the developers because it was deemed to be the smallest set that still matches the optimal value of the data well. The next section goes over how the optimal values of the data change as the number of representative periods changes."
   ]
  },
  {
   "cell_type": "code",
   "execution_count": null,
   "id": "e0ffc891",
   "metadata": {},
   "outputs": [],
   "source": [
    "## Maybe: explain why more centers in winter"
   ]
  },
  {
   "cell_type": "markdown",
   "id": "e0787c11",
   "metadata": {},
   "source": [
    "### Objective Values and Representative Periods"
   ]
  },
  {
   "cell_type": "markdown",
   "id": "3069dc7c",
   "metadata": {},
   "source": [
    "Each time `Run.jl` is run, a `Results` folder is produced. This folder contains numerous .csv files with output variable from the GenX model. For more information on all output, see the documentation <a href=\"https://genxproject.github.io/GenX/dev/data_documentation/#Outputs\" target=\"_blank\">here</a>."
   ]
  },
  {
   "cell_type": "markdown",
   "id": "f9ef0a1e",
   "metadata": {},
   "source": [
    "This section focuses on the __objective value__ of the model. In optimization problems, the objective value is the main value minimized or maximized within the constraints of the model, according to the __objective function__ specified in the problem formulation. In the case of GenX, the objective function is total annual electricity system cost. A detailed (and quite complicated) description of the optimization problem is  <a href=\"https://genxproject.github.io/GenX/dev/objective_function/\" target=\"_blank\">here</a> in the documentation. "
   ]
  },
  {
   "cell_type": "markdown",
   "id": "d91b1994",
   "metadata": {},
   "source": [
    "For the purpose of this tutorial, we focus on the objective value as a way to evaluate how well the representative periods actually \"represent\" the entire model. To see how well the objective value of representative periods aligns with that of the total period, we can run `SmallNewEngland/OneZone` with a variety of minimum and maximum total periods."
   ]
  },
  {
   "cell_type": "markdown",
   "id": "5305513e",
   "metadata": {},
   "source": [
    "Each time `Run.jl` is run, a new results folder appears in the model folder. These folders are not overwritten. So far, we've run the model twice, so we should have two results folders, `Results` and `Results_1` in the `OneZone` folder. To ensure that the following code works, make sure these are the only two results folders in `Example_Systems_Tutorials/SmallNewEngland/OneZone'"
   ]
  },
  {
   "cell_type": "code",
   "execution_count": null,
   "id": "469c5016",
   "metadata": {},
   "outputs": [],
   "source": [
    "cd(readdir,\"Example_Systems_Tutorials/SmallNewEngland/OneZone\")"
   ]
  },
  {
   "cell_type": "markdown",
   "id": "b2665b6d",
   "metadata": {},
   "source": [
    "Uncomment the line below to remove Results folders beyond Results and Results_1"
   ]
  },
  {
   "cell_type": "code",
   "execution_count": null,
   "id": "4b3b4fa7",
   "metadata": {},
   "outputs": [],
   "source": [
    "rm(\"Example_Systems_Tutorials/SmallNewEngland/OneZone/Results_12\", recursive=true) \n",
    "# Change Results number for any other Results folders"
   ]
  },
  {
   "cell_type": "markdown",
   "id": "6309ad3c",
   "metadata": {},
   "source": [
    "The objective value is found in the files `costs.csv` and `status.csv`."
   ]
  },
  {
   "cell_type": "code",
   "execution_count": 26,
   "id": "ddc0a219",
   "metadata": {},
   "outputs": [
    {
     "data": {
      "text/html": [
       "<div><div style = \"float: left;\"><span>1×3 DataFrame</span></div><div style = \"clear: both;\"></div></div><div class = \"data-frame\" style = \"overflow-x: scroll;\"><table class = \"data-frame\" style = \"margin-bottom: 6px;\"><thead><tr class = \"header\"><th class = \"rowNumber\" style = \"font-weight: bold; text-align: right;\">Row</th><th style = \"text-align: left;\">Status</th><th style = \"text-align: left;\">Solve</th><th style = \"text-align: left;\">Objval</th></tr><tr class = \"subheader headerLastRow\"><th class = \"rowNumber\" style = \"font-weight: bold; text-align: right;\"></th><th title = \"String7\" style = \"text-align: left;\">String7</th><th title = \"Float64\" style = \"text-align: left;\">Float64</th><th title = \"Float64\" style = \"text-align: left;\">Float64</th></tr></thead><tbody><tr><td class = \"rowNumber\" style = \"font-weight: bold; text-align: right;\">1</td><td style = \"text-align: left;\">OPTIMAL</td><td style = \"text-align: right;\">153.269</td><td style = \"text-align: right;\">10592.9</td></tr></tbody></table></div>"
      ],
      "text/latex": [
       "\\begin{tabular}{r|ccc}\n",
       "\t& Status & Solve & Objval\\\\\n",
       "\t\\hline\n",
       "\t& String7 & Float64 & Float64\\\\\n",
       "\t\\hline\n",
       "\t1 & OPTIMAL & 153.269 & 10592.9 \\\\\n",
       "\\end{tabular}\n"
      ],
      "text/plain": [
       "\u001b[1m1×3 DataFrame\u001b[0m\n",
       "\u001b[1m Row \u001b[0m│\u001b[1m Status  \u001b[0m\u001b[1m Solve   \u001b[0m\u001b[1m Objval  \u001b[0m\n",
       "     │\u001b[90m String7 \u001b[0m\u001b[90m Float64 \u001b[0m\u001b[90m Float64 \u001b[0m\n",
       "─────┼───────────────────────────\n",
       "   1 │ OPTIMAL  153.269  10592.9"
      ]
     },
     "execution_count": 26,
     "metadata": {},
     "output_type": "execute_result"
    }
   ],
   "source": [
    "OV_noTDR = CSV.read(\"Example_Systems_Tutorials/SmallNewEngland/OneZone/Results/status.csv\",DataFrame,missingstring=\"NA\")\n",
    "#OV_RP11 = CSV.read(\"Example_Systems_Tutorials/SmallNewEngland/OneZone/Results_1/status.csv\",DataFrame,missingstring=\"NA\")"
   ]
  },
  {
   "cell_type": "code",
   "execution_count": null,
   "id": "d11f3786",
   "metadata": {},
   "outputs": [],
   "source": [
    "println(\"1 Representative Period: \", OV_noTDR[!,3])\n",
    "println(\"11 Representative Periods: \", OV_RP11[!,3])\n"
   ]
  },
  {
   "cell_type": "code",
   "execution_count": null,
   "id": "b76df05d",
   "metadata": {},
   "outputs": [],
   "source": [
    "OV_noTDR[!,3]"
   ]
  },
  {
   "cell_type": "markdown",
   "id": "680341dd",
   "metadata": {},
   "source": [
    "As a reminder, here are the time domain reduction settings we've been using (also shown at the beginning of the tutorial):"
   ]
  },
  {
   "cell_type": "code",
   "execution_count": null,
   "id": "23ae5973",
   "metadata": {},
   "outputs": [],
   "source": [
    "time_domain_reduction_settings"
   ]
  },
  {
   "cell_type": "markdown",
   "id": "21f14ec3",
   "metadata": {},
   "source": [
    "To demonstrate how the objective value changes as the number of representative periods does, we'll run GenX ten times, each with a different number of periods, and plot the objective values."
   ]
  },
  {
   "cell_type": "code",
   "execution_count": null,
   "id": "0fa96226",
   "metadata": {},
   "outputs": [],
   "source": [
    "genx_settings_SNE"
   ]
  },
  {
   "cell_type": "code",
   "execution_count": 5,
   "id": "227edfc0",
   "metadata": {},
   "outputs": [
    {
     "name": "stdout",
     "output_type": "stream",
     "text": [
      "1Dict{Any, Any}(\"IterativelyAddPeriods\" => 1, \"ExtremePeriods\" => Dict{Any, Any}(\"Wind\" => Dict{Any, Any}(\"System\" => Dict{Any, Any}(\"Absolute\" => Dict{Any, Any}(\"Min\" => 0, \"Max\" => 0), \"Integral\" => Dict{Any, Any}(\"Min\" => 0, \"Max\" => 0)), \"Zone\" => Dict{Any, Any}(\"Absolute\" => Dict{Any, Any}(\"Min\" => 0, \"Max\" => 0), \"Integral\" => Dict{Any, Any}(\"Min\" => 1, \"Max\" => 0))), \"Load\" => Dict{Any, Any}(\"System\" => Dict{Any, Any}(\"Absolute\" => Dict{Any, Any}(\"Min\" => 0, \"Max\" => 1), \"Integral\" => Dict{Any, Any}(\"Min\" => 0, \"Max\" => 0)), \"Zone\" => Dict{Any, Any}(\"Absolute\" => Dict{Any, Any}(\"Min\" => 0, \"Max\" => 0), \"Integral\" => Dict{Any, Any}(\"Min\" => 0, \"Max\" => 0))), \"PV\" => Dict{Any, Any}(\"System\" => Dict{Any, Any}(\"Absolute\" => Dict{Any, Any}(\"Min\" => 0, \"Max\" => 0), \"Integral\" => Dict{Any, Any}(\"Min\" => 0, \"Max\" => 0)), \"Zone\" => Dict{Any, Any}(\"Absolute\" => Dict{Any, Any}(\"Min\" => 0, \"Max\" => 0), \"Integral\" => Dict{Any, Any}(\"Min\" => 1, \"Max\" => 0)))), \"UseExtremePeriods\" => 1, \"MinPeriods\" => 4, \"MaxPeriods\" => 5, \"LoadWeight\" => 1, \"ClusterFuelPrices\" => 1, \"nReps\" => 100, \"MultiStageConcatenate\" => 0, \"Threshold\" => 0.05, \"TimestepsPerRepPeriod\" => 168, \"IterateMethod\" => \"cluster\", \"ScalingMethod\" => \"S\", \"ClusterMethod\" => \"kmeans\", \"WeightTotal\" => 8760) \n",
      "Configuring Settings\n",
      "Clustering Time Series Data (Grouped)...\n",
      "Reading Input CSV Files\n",
      "Network.csv Successfully Read!\n",
      "Load_data.csv Successfully Read!\n",
      "Fuels_data.csv Successfully Read!\n",
      "Generators_data.csv Successfully Read!\n",
      "Generators_variability.csv Successfully Read!\n",
      "Validating time basis\n",
      "Capacity_reserve_margin.csv Successfully Read!\n",
      "Minimum_capacity_requirement.csv Successfully Read!\n",
      "Maximum_capacity_requirement.csv Successfully Read!\n",
      "Energy_share_requirement.csv Successfully Read!\n",
      "CO2_cap.csv Successfully Read!\n",
      "CSV Files Successfully Read In From /Users/mayamutic/Desktop/GenX/Tutorials/Example_Systems_Tutorials/SmallNewEngland/OneZone\n",
      "Configuring Solver\n",
      "Loading Inputs\n",
      "Reading Input CSV Files\n",
      "Network.csv Successfully Read!\n",
      "Load_data.csv Successfully Read!\n",
      "Fuels_data.csv Successfully Read!\n",
      "Generators_data.csv Successfully Read!\n",
      "Generators_variability.csv Successfully Read!\n",
      "Validating time basis\n",
      "Capacity_reserve_margin.csv Successfully Read!\n",
      "Minimum_capacity_requirement.csv Successfully Read!\n",
      "Maximum_capacity_requirement.csv Successfully Read!\n",
      "Energy_share_requirement.csv Successfully Read!\n",
      "CO2_cap.csv Successfully Read!\n",
      "CSV Files Successfully Read In From /Users/mayamutic/Desktop/GenX/Tutorials/Example_Systems_Tutorials/SmallNewEngland/OneZone\n",
      "Generating the Optimization Model\n",
      "Discharge Module\n",
      "Non-served Energy Module\n",
      "Investment Discharge Module\n",
      "Unit Commitment Module\n",
      "Emissions Module (for CO2 Policy modularization\n",
      "Dispatchable Resources Module\n",
      "Storage Resources Module\n",
      "Storage Investment Module\n",
      "Storage Core Resources Module\n",
      "Storage Resources with Symmetric Charge/Discharge Capacity Module\n",
      "Thermal (Unit Commitment) Resources Module\n",
      "C02 Policies Module\n",
      "Energy Share Requirement Policies Module\n",
      "Capacity Reserve Margin Policies Module\n",
      "Minimum Capacity Requirement Module\n",
      "Maximum Capacity Requirement Module\n",
      "Time elapsed for model building is\n",
      "5.179279375\n",
      "Solving Model\n",
      "Running HiGHS 1.6.0: Copyright (c) 2023 HiGHS under MIT licence terms\n",
      "Presolving model\n",
      "16362 rows, 7959 cols, 62011 nonzeros\n",
      "15633 rows, 7234 cols, 62167 nonzeros\n",
      "Presolve : Reductions: rows 15633(-2863); columns 7234(-1178); elements 62167(-13355)\n",
      "Solving the presolved LP\n",
      "Using EKK dual simplex solver - serial\n",
      "  Iteration        Objective     Infeasibilities num(sum)\n",
      "          0    -1.9058391761e-01 Ph1: 12(61.8664); Du: 1(0.190584) 0s\n",
      "       6016     8.1862410672e+03 Pr: 0(0); Du: 0(2.04482e-13) 1s\n",
      "Solving the original LP from the solution after postsolve\n",
      "Model   status      : Optimal\n",
      "Simplex   iterations: 6016\n",
      "Objective value     :  8.1862410672e+03\n",
      "HiGHS run time      :          1.07\n",
      "LP solved for primal\n",
      "Writing Output\n",
      "Time elapsed for writing costs is\n",
      "0.669089625\n",
      "Time elapsed for writing storage is\n",
      "0.077236625\n",
      "Time elapsed for writing nse is\n",
      "0.266686875\n",
      "Time elapsed for writing power balance is\n",
      "0.178190417\n",
      "Time elapsed for writing emissions is\n",
      "0.279024916\n",
      "Time elapsed for writing reliability is\n",
      "0.149653375\n",
      "Time elapsed for writing storage duals is\n",
      "0.353165292\n",
      "Time elapsed for writing commitment is\n",
      "0.011523833\n",
      "Time elapsed for writing startup is\n",
      "0.034470083\n",
      "Time elapsed for writing shutdown is\n",
      "0.017521917\n",
      "Time elapsed for writing time weights is\n",
      "0.065905917\n",
      "Time elapsed for writing reserve margin is\n",
      "0.141918792\n",
      "Time elapsed for writing capacity value is\n",
      "1.269982333\n",
      "Time elapsed for writing net revenue is\n",
      "0.4201225\n",
      "Wrote outputs to /Users/mayamutic/Desktop/GenX/Tutorials/Example_Systems_Tutorials/SmallNewEngland/OneZone/Results_2\n",
      "Time elapsed for writing is\n",
      "7.540683833\n",
      " 50.190468 seconds (131.56 M allocations: 8.494 GiB, 5.82% gc time, 81.52% compilation time: 10% of which was recompilation)\n",
      "2Dict{Any, Any}(\"IterativelyAddPeriods\" => 1, \"ExtremePeriods\" => Dict{Any, Any}(\"Wind\" => Dict{Any, Any}(\"System\" => Dict{Any, Any}(\"Absolute\" => Dict{Any, Any}(\"Min\" => 0, \"Max\" => 0), \"Integral\" => Dict{Any, Any}(\"Min\" => 0, \"Max\" => 0)), \"Zone\" => Dict{Any, Any}(\"Absolute\" => Dict{Any, Any}(\"Min\" => 0, \"Max\" => 0), \"Integral\" => Dict{Any, Any}(\"Min\" => 1, \"Max\" => 0))), \"Load\" => Dict{Any, Any}(\"System\" => Dict{Any, Any}(\"Absolute\" => Dict{Any, Any}(\"Min\" => 0, \"Max\" => 1), \"Integral\" => Dict{Any, Any}(\"Min\" => 0, \"Max\" => 0)), \"Zone\" => Dict{Any, Any}(\"Absolute\" => Dict{Any, Any}(\"Min\" => 0, \"Max\" => 0), \"Integral\" => Dict{Any, Any}(\"Min\" => 0, \"Max\" => 0))), \"PV\" => Dict{Any, Any}(\"System\" => Dict{Any, Any}(\"Absolute\" => Dict{Any, Any}(\"Min\" => 0, \"Max\" => 0), \"Integral\" => Dict{Any, Any}(\"Min\" => 0, \"Max\" => 0)), \"Zone\" => Dict{Any, Any}(\"Absolute\" => Dict{Any, Any}(\"Min\" => 0, \"Max\" => 0), \"Integral\" => Dict{Any, Any}(\"Min\" => 1, \"Max\" => 0)))), \"UseExtremePeriods\" => 1, \"MinPeriods\" => 5, \"MaxPeriods\" => 10, \"LoadWeight\" => 1, \"ClusterFuelPrices\" => 1, \"nReps\" => 100, \"MultiStageConcatenate\" => 0, \"Threshold\" => 0.05, \"TimestepsPerRepPeriod\" => 168, \"IterateMethod\" => \"cluster\", \"ScalingMethod\" => \"S\", \"ClusterMethod\" => \"kmeans\", \"WeightTotal\" => 8760) \n",
      "Configuring Settings\n",
      "Clustering Time Series Data (Grouped)...\n",
      "Reading Input CSV Files\n",
      "Network.csv Successfully Read!\n",
      "Load_data.csv Successfully Read!\n",
      "Fuels_data.csv Successfully Read!\n",
      "Generators_data.csv Successfully Read!\n",
      "Generators_variability.csv Successfully Read!\n",
      "Validating time basis\n",
      "Capacity_reserve_margin.csv Successfully Read!\n",
      "Minimum_capacity_requirement.csv Successfully Read!\n",
      "Maximum_capacity_requirement.csv Successfully Read!\n",
      "Energy_share_requirement.csv Successfully Read!\n",
      "CO2_cap.csv Successfully Read!\n",
      "CSV Files Successfully Read In From /Users/mayamutic/Desktop/GenX/Tutorials/Example_Systems_Tutorials/SmallNewEngland/OneZone\n",
      "Configuring Solver\n",
      "Loading Inputs\n",
      "Reading Input CSV Files\n",
      "Network.csv Successfully Read!\n",
      "Load_data.csv Successfully Read!\n",
      "Fuels_data.csv Successfully Read!\n",
      "Generators_data.csv Successfully Read!\n",
      "Generators_variability.csv Successfully Read!\n",
      "Validating time basis\n",
      "Capacity_reserve_margin.csv Successfully Read!\n",
      "Minimum_capacity_requirement.csv Successfully Read!\n",
      "Maximum_capacity_requirement.csv Successfully Read!\n",
      "Energy_share_requirement.csv Successfully Read!\n",
      "CO2_cap.csv Successfully Read!\n",
      "CSV Files Successfully Read In From /Users/mayamutic/Desktop/GenX/Tutorials/Example_Systems_Tutorials/SmallNewEngland/OneZone\n",
      "Generating the Optimization Model\n",
      "Discharge Module\n",
      "Non-served Energy Module\n",
      "Investment Discharge Module\n",
      "Unit Commitment Module\n",
      "Emissions Module (for CO2 Policy modularization\n",
      "Dispatchable Resources Module\n",
      "Storage Resources Module\n",
      "Storage Investment Module\n",
      "Storage Core Resources Module\n",
      "Storage Resources with Symmetric Charge/Discharge Capacity Module\n",
      "Thermal (Unit Commitment) Resources Module\n",
      "C02 Policies Module\n",
      "Energy Share Requirement Policies Module\n",
      "Capacity Reserve Margin Policies Module\n",
      "Minimum Capacity Requirement Module\n",
      "Maximum Capacity Requirement Module\n",
      "Time elapsed for model building is\n",
      "0.127302208\n",
      "Solving Model\n",
      "Running HiGHS 1.6.0: Copyright (c) 2023 HiGHS under MIT licence terms\n",
      "Presolving model\n",
      "32686 rows, 15883 cols, 123835 nonzeros\n",
      "31451 rows, 14652 cols, 123343 nonzeros\n",
      "Presolve : Reductions: rows 31451(-5525); columns 14652(-2160); elements 123343(-27555)\n",
      "Solving the presolved LP\n",
      "Using EKK dual simplex solver - serial\n",
      "  Iteration        Objective     Infeasibilities num(sum)\n",
      "          0    -2.8305457780e+00 Ph1: 117(509.835); Du: 15(2.83055) 0s\n",
      "      16092     1.0429328787e+04 Pr: 0(0); Du: 0(6.58466e-14) 4s\n",
      "Solving the original LP from the solution after postsolve\n",
      "Model   status      : Optimal\n",
      "Simplex   iterations: 16092\n",
      "Objective value     :  1.0429328787e+04\n",
      "HiGHS run time      :          4.11\n",
      "LP solved for primal\n",
      "Writing Output\n",
      "Time elapsed for writing costs is\n",
      "0.012876625\n",
      "Time elapsed for writing storage is\n",
      "0.0034525\n",
      "Time elapsed for writing nse is\n",
      "0.018641958\n"
     ]
    },
    {
     "name": "stdout",
     "output_type": "stream",
     "text": [
      "Time elapsed for writing power balance is\n",
      "0.009097208\n",
      "Time elapsed for writing emissions is\n",
      "0.018562917\n",
      "Time elapsed for writing reliability is\n",
      "0.006055041\n",
      "Time elapsed for writing storage duals is\n",
      "0.010311041\n",
      "Time elapsed for writing commitment is\n",
      "0.004314416\n",
      "Time elapsed for writing startup is\n",
      "0.012338083\n",
      "Time elapsed for writing shutdown is\n",
      "0.012146709\n",
      "Time elapsed for writing time weights is\n",
      "0.000503541\n",
      "Time elapsed for writing reserve margin is\n",
      "0.002548208\n",
      "Time elapsed for writing capacity value is\n",
      "0.840705542\n",
      "Time elapsed for writing net revenue is\n",
      "0.006233375\n",
      "Wrote outputs to /Users/mayamutic/Desktop/GenX/Tutorials/Example_Systems_Tutorials/SmallNewEngland/OneZone/Results_3\n",
      "Time elapsed for writing is\n",
      "1.918215083\n",
      "  6.833648 seconds (7.67 M allocations: 723.252 MiB, 2.13% gc time, 30.54% compilation time: 16% of which was recompilation)\n",
      "3Dict{Any, Any}(\"IterativelyAddPeriods\" => 1, \"ExtremePeriods\" => Dict{Any, Any}(\"Wind\" => Dict{Any, Any}(\"System\" => Dict{Any, Any}(\"Absolute\" => Dict{Any, Any}(\"Min\" => 0, \"Max\" => 0), \"Integral\" => Dict{Any, Any}(\"Min\" => 0, \"Max\" => 0)), \"Zone\" => Dict{Any, Any}(\"Absolute\" => Dict{Any, Any}(\"Min\" => 0, \"Max\" => 0), \"Integral\" => Dict{Any, Any}(\"Min\" => 1, \"Max\" => 0))), \"Load\" => Dict{Any, Any}(\"System\" => Dict{Any, Any}(\"Absolute\" => Dict{Any, Any}(\"Min\" => 0, \"Max\" => 1), \"Integral\" => Dict{Any, Any}(\"Min\" => 0, \"Max\" => 0)), \"Zone\" => Dict{Any, Any}(\"Absolute\" => Dict{Any, Any}(\"Min\" => 0, \"Max\" => 0), \"Integral\" => Dict{Any, Any}(\"Min\" => 0, \"Max\" => 0))), \"PV\" => Dict{Any, Any}(\"System\" => Dict{Any, Any}(\"Absolute\" => Dict{Any, Any}(\"Min\" => 0, \"Max\" => 0), \"Integral\" => Dict{Any, Any}(\"Min\" => 0, \"Max\" => 0)), \"Zone\" => Dict{Any, Any}(\"Absolute\" => Dict{Any, Any}(\"Min\" => 0, \"Max\" => 0), \"Integral\" => Dict{Any, Any}(\"Min\" => 1, \"Max\" => 0)))), \"UseExtremePeriods\" => 1, \"MinPeriods\" => 15, \"MaxPeriods\" => 21, \"LoadWeight\" => 1, \"ClusterFuelPrices\" => 1, \"nReps\" => 100, \"MultiStageConcatenate\" => 0, \"Threshold\" => 0.05, \"TimestepsPerRepPeriod\" => 168, \"IterateMethod\" => \"cluster\", \"ScalingMethod\" => \"S\", \"ClusterMethod\" => \"kmeans\", \"WeightTotal\" => 8760) \n",
      "Configuring Settings\n",
      "Clustering Time Series Data (Grouped)...\n",
      "Reading Input CSV Files\n",
      "Network.csv Successfully Read!\n",
      "Load_data.csv Successfully Read!\n",
      "Fuels_data.csv Successfully Read!\n",
      "Generators_data.csv Successfully Read!\n",
      "Generators_variability.csv Successfully Read!\n",
      "Validating time basis\n",
      "Capacity_reserve_margin.csv Successfully Read!\n",
      "Minimum_capacity_requirement.csv Successfully Read!\n",
      "Maximum_capacity_requirement.csv Successfully Read!\n",
      "Energy_share_requirement.csv Successfully Read!\n",
      "CO2_cap.csv Successfully Read!\n",
      "CSV Files Successfully Read In From /Users/mayamutic/Desktop/GenX/Tutorials/Example_Systems_Tutorials/SmallNewEngland/OneZone\n",
      "Configuring Solver\n",
      "Loading Inputs\n",
      "Reading Input CSV Files\n",
      "Network.csv Successfully Read!\n",
      "Load_data.csv Successfully Read!\n",
      "Fuels_data.csv Successfully Read!\n",
      "Generators_data.csv Successfully Read!\n",
      "Generators_variability.csv Successfully Read!\n",
      "Validating time basis\n",
      "Capacity_reserve_margin.csv Successfully Read!\n",
      "Minimum_capacity_requirement.csv Successfully Read!\n",
      "Maximum_capacity_requirement.csv Successfully Read!\n",
      "Energy_share_requirement.csv Successfully Read!\n",
      "CO2_cap.csv Successfully Read!\n",
      "CSV Files Successfully Read In From /Users/mayamutic/Desktop/GenX/Tutorials/Example_Systems_Tutorials/SmallNewEngland/OneZone\n",
      "Generating the Optimization Model\n",
      "Discharge Module\n",
      "Non-served Energy Module\n",
      "Investment Discharge Module\n",
      "Unit Commitment Module\n",
      "Emissions Module (for CO2 Policy modularization\n",
      "Dispatchable Resources Module\n",
      "Storage Resources Module\n",
      "Storage Investment Module\n",
      "Storage Core Resources Module\n",
      "Storage Resources with Symmetric Charge/Discharge Capacity Module\n",
      "Thermal (Unit Commitment) Resources Module\n",
      "C02 Policies Module\n",
      "Energy Share Requirement Policies Module\n",
      "Capacity Reserve Margin Policies Module\n",
      "Minimum Capacity Requirement Module\n",
      "Maximum Capacity Requirement Module\n",
      "Time elapsed for model building is\n",
      "0.241609959\n",
      "Solving Model\n",
      "Running HiGHS 1.6.0: Copyright (c) 2023 HiGHS under MIT licence terms\n",
      "Presolving model\n",
      "68551 rows, 33268 cols, 259561 nonzeros\n",
      "65835 rows, 30556 cols, 259087 nonzeros\n",
      "Presolve : Reductions: rows 65835(-11797); columns 30556(-4736); elements 259087(-57447)\n",
      "Solving the presolved LP\n",
      "Using EKK dual simplex solver - serial\n",
      "  Iteration        Objective     Infeasibilities num(sum)\n",
      "          0    -3.7422062233e+00 Ph1: 175(736.014); Du: 22(3.74221) 0s\n",
      "      13717     8.2156248281e+03 Pr: 13961(128325); Du: 0(0.000851845) 5s\n",
      "      21047     1.0236126981e+04 Pr: 21225(1.43986e+06); Du: 0(0.00165252) 10s\n",
      "      28868     1.0976347538e+04 Pr: 1901(714.404); Du: 0(0.00191023) 15s\n",
      "      32970     1.1095253882e+04 Pr: 0(0); Du: 0(3.13359e-06) 18s\n",
      "Using EKK primal simplex solver\n",
      "  Iteration        Objective     Infeasibilities num(sum)\n",
      "      32970     1.1095253882e+04 Pr: 0(0); Du: 1(0.000200549) 18s\n",
      "      32971     1.1095253882e+04 Pr: 0(0); Du: 0(1.24447e-15) 18s\n",
      "Solving the original LP from the solution after postsolve\n",
      "Model   status      : Optimal\n",
      "Simplex   iterations: 32971\n",
      "Objective value     :  1.1095253882e+04\n",
      "HiGHS run time      :         18.50\n",
      "LP solved for primal\n",
      "Writing Output\n",
      "Time elapsed for writing costs is\n",
      "0.044609625\n",
      "Time elapsed for writing storage is\n",
      "0.007300083\n",
      "Time elapsed for writing nse is\n",
      "0.022768875\n",
      "Time elapsed for writing power balance is\n",
      "0.018881709\n",
      "Time elapsed for writing emissions is\n",
      "0.041433417\n",
      "Time elapsed for writing reliability is\n",
      "0.006744792\n",
      "Time elapsed for writing storage duals is\n",
      "0.007668541\n",
      "Time elapsed for writing commitment is\n",
      "0.007504667\n",
      "Time elapsed for writing startup is\n",
      "0.027189458\n",
      "Time elapsed for writing shutdown is\n",
      "0.025697834\n",
      "Time elapsed for writing time weights is\n",
      "0.000879667\n",
      "Time elapsed for writing reserve margin is\n",
      "0.004173334\n",
      "Time elapsed for writing capacity value is\n",
      "2.072721875\n",
      "Time elapsed for writing net revenue is\n",
      "0.01252225\n",
      "Wrote outputs to /Users/mayamutic/Desktop/GenX/Tutorials/Example_Systems_Tutorials/SmallNewEngland/OneZone/Results_4\n",
      "Time elapsed for writing is\n",
      "4.521643542\n",
      " 23.733130 seconds (14.43 M allocations: 1.103 GiB, 0.73% gc time, 17.47% compilation time)\n",
      "4Dict{Any, Any}(\"IterativelyAddPeriods\" => 1, \"ExtremePeriods\" => Dict{Any, Any}(\"Wind\" => Dict{Any, Any}(\"System\" => Dict{Any, Any}(\"Absolute\" => Dict{Any, Any}(\"Min\" => 0, \"Max\" => 0), \"Integral\" => Dict{Any, Any}(\"Min\" => 0, \"Max\" => 0)), \"Zone\" => Dict{Any, Any}(\"Absolute\" => Dict{Any, Any}(\"Min\" => 0, \"Max\" => 0), \"Integral\" => Dict{Any, Any}(\"Min\" => 1, \"Max\" => 0))), \"Load\" => Dict{Any, Any}(\"System\" => Dict{Any, Any}(\"Absolute\" => Dict{Any, Any}(\"Min\" => 0, \"Max\" => 1), \"Integral\" => Dict{Any, Any}(\"Min\" => 0, \"Max\" => 0)), \"Zone\" => Dict{Any, Any}(\"Absolute\" => Dict{Any, Any}(\"Min\" => 0, \"Max\" => 0), \"Integral\" => Dict{Any, Any}(\"Min\" => 0, \"Max\" => 0))), \"PV\" => Dict{Any, Any}(\"System\" => Dict{Any, Any}(\"Absolute\" => Dict{Any, Any}(\"Min\" => 0, \"Max\" => 0), \"Integral\" => Dict{Any, Any}(\"Min\" => 0, \"Max\" => 0)), \"Zone\" => Dict{Any, Any}(\"Absolute\" => Dict{Any, Any}(\"Min\" => 0, \"Max\" => 0), \"Integral\" => Dict{Any, Any}(\"Min\" => 1, \"Max\" => 0)))), \"UseExtremePeriods\" => 1, \"MinPeriods\" => 30, \"MaxPeriods\" => 37, \"LoadWeight\" => 1, \"ClusterFuelPrices\" => 1, \"nReps\" => 100, \"MultiStageConcatenate\" => 0, \"Threshold\" => 0.05, \"TimestepsPerRepPeriod\" => 168, \"IterateMethod\" => \"cluster\", \"ScalingMethod\" => \"S\", \"ClusterMethod\" => \"kmeans\", \"WeightTotal\" => 8760) \n",
      "Configuring Settings\n",
      "Clustering Time Series Data (Grouped)...\n",
      "Reading Input CSV Files\n",
      "Network.csv Successfully Read!\n",
      "Load_data.csv Successfully Read!\n",
      "Fuels_data.csv Successfully Read!\n",
      "Generators_data.csv Successfully Read!\n",
      "Generators_variability.csv Successfully Read!\n",
      "Validating time basis\n",
      "Capacity_reserve_margin.csv Successfully Read!\n",
      "Minimum_capacity_requirement.csv Successfully Read!\n",
      "Maximum_capacity_requirement.csv Successfully Read!\n",
      "Energy_share_requirement.csv Successfully Read!\n",
      "CO2_cap.csv Successfully Read!\n",
      "CSV Files Successfully Read In From /Users/mayamutic/Desktop/GenX/Tutorials/Example_Systems_Tutorials/SmallNewEngland/OneZone\n",
      "Configuring Solver\n",
      "Loading Inputs\n",
      "Reading Input CSV Files\n",
      "Network.csv Successfully Read!\n",
      "Load_data.csv Successfully Read!\n",
      "Fuels_data.csv Successfully Read!\n",
      "Generators_data.csv Successfully Read!\n",
      "Generators_variability.csv Successfully Read!\n",
      "Validating time basis\n",
      "Capacity_reserve_margin.csv Successfully Read!\n",
      "Minimum_capacity_requirement.csv Successfully Read!\n",
      "Maximum_capacity_requirement.csv Successfully Read!\n",
      "Energy_share_requirement.csv Successfully Read!\n",
      "CO2_cap.csv Successfully Read!\n",
      "CSV Files Successfully Read In From /Users/mayamutic/Desktop/GenX/Tutorials/Example_Systems_Tutorials/SmallNewEngland/OneZone\n",
      "Generating the Optimization Model\n",
      "Discharge Module\n",
      "Non-served Energy Module\n",
      "Investment Discharge Module\n",
      "Unit Commitment Module\n",
      "Emissions Module (for CO2 Policy modularization\n",
      "Dispatchable Resources Module\n"
     ]
    },
    {
     "name": "stdout",
     "output_type": "stream",
     "text": [
      "Storage Resources Module\n",
      "Storage Investment Module\n",
      "Storage Core Resources Module\n",
      "Storage Resources with Symmetric Charge/Discharge Capacity Module\n",
      "Thermal (Unit Commitment) Resources Module\n",
      "C02 Policies Module\n",
      "Energy Share Requirement Policies Module\n",
      "Capacity Reserve Margin Policies Module\n",
      "Minimum Capacity Requirement Module\n",
      "Maximum Capacity Requirement Module\n",
      "Time elapsed for model building is\n",
      "0.370916709\n",
      "Solving Model\n",
      "Running HiGHS 1.6.0: Copyright (c) 2023 HiGHS under MIT licence terms\n",
      "Presolving model\n",
      "101392 rows, 49309 cols, 384367 nonzeros\n",
      "98143 rows, 46064 cols, 380365 nonzeros\n",
      "Presolve : Reductions: rows 98143(-16449); columns 46064(-6028); elements 380365(-87693)\n",
      "Solving the presolved LP\n",
      "Using EKK dual simplex solver - serial\n",
      "  Iteration        Objective     Infeasibilities num(sum)\n",
      "          0    -1.6457682697e+00 Ph1: 99(395.773); Du: 11(1.64577) 0s\n",
      "      16154     4.5354566920e+03 Pr: 11590(208756); Du: 0(0.00564312) 5s\n",
      "      20926     6.8961618115e+03 Pr: 16697(479592); Du: 0(0.000710395) 10s\n",
      "      26270     8.1799076300e+03 Pr: 13966(40999.8); Du: 0(0.00178555) 16s\n",
      "      31132     8.9891097991e+03 Pr: 36838(814727); Du: 0(0.00177245) 21s\n",
      "      36403     9.4984545355e+03 Pr: 20813(24371); Du: 0(0.00245706) 26s\n",
      "      40884     9.8126318722e+03 Pr: 6368(6433.31); Du: 0(0.00270694) 31s\n",
      "      45658     1.0011461366e+04 Pr: 7990(8995.36); Du: 0(0.0027509) 37s\n",
      "      50016     1.0122270371e+04 Pr: 1970(581.787); Du: 0(0.00214336) 42s\n",
      "      53612     1.0151084575e+04 Pr: 0(0); Du: 0(6.26717e-06) 46s\n",
      "Using EKK primal simplex solver\n",
      "  Iteration        Objective     Infeasibilities num(sum)\n",
      "      53612     1.0151084575e+04 Pr: 0(0); Du: 1(0.000100275) 46s\n",
      "      53613     1.0151084575e+04 Pr: 0(0); Du: 0(1.18928e-13) 46s\n",
      "Solving the original LP from the solution after postsolve\n",
      "Model   status      : Optimal\n",
      "Simplex   iterations: 53613\n",
      "Objective value     :  1.0151084575e+04\n",
      "HiGHS run time      :         46.60\n",
      "LP solved for primal\n",
      "Writing Output\n",
      "Time elapsed for writing costs is\n",
      "0.058756709\n",
      "Time elapsed for writing storage is\n",
      "0.011319667\n",
      "Time elapsed for writing nse is\n",
      "0.043503708\n",
      "Time elapsed for writing power balance is\n",
      "0.0275255\n",
      "Time elapsed for writing emissions is\n",
      "0.0494945\n",
      "Time elapsed for writing reliability is\n",
      "0.016965875\n",
      "Time elapsed for writing storage duals is\n",
      "0.012395583\n",
      "Time elapsed for writing commitment is\n",
      "0.010867\n",
      "Time elapsed for writing startup is\n",
      "0.037490875\n",
      "Time elapsed for writing shutdown is\n",
      "0.047332\n",
      "Time elapsed for writing time weights is\n",
      "0.001193459\n",
      "Time elapsed for writing reserve margin is\n",
      "0.019794459\n",
      "Time elapsed for writing capacity value is\n",
      "1.917541584\n",
      "Time elapsed for writing net revenue is\n",
      "0.018967375\n",
      "Wrote outputs to /Users/mayamutic/Desktop/GenX/Tutorials/Example_Systems_Tutorials/SmallNewEngland/OneZone/Results_5\n",
      "Time elapsed for writing is\n",
      "4.374807541\n",
      " 51.735807 seconds (21.04 M allocations: 1.236 GiB, 0.45% gc time, 7.40% compilation time)\n",
      "5Dict{Any, Any}(\"IterativelyAddPeriods\" => 1, \"ExtremePeriods\" => Dict{Any, Any}(\"Wind\" => Dict{Any, Any}(\"System\" => Dict{Any, Any}(\"Absolute\" => Dict{Any, Any}(\"Min\" => 0, \"Max\" => 0), \"Integral\" => Dict{Any, Any}(\"Min\" => 0, \"Max\" => 0)), \"Zone\" => Dict{Any, Any}(\"Absolute\" => Dict{Any, Any}(\"Min\" => 0, \"Max\" => 0), \"Integral\" => Dict{Any, Any}(\"Min\" => 1, \"Max\" => 0))), \"Load\" => Dict{Any, Any}(\"System\" => Dict{Any, Any}(\"Absolute\" => Dict{Any, Any}(\"Min\" => 0, \"Max\" => 1), \"Integral\" => Dict{Any, Any}(\"Min\" => 0, \"Max\" => 0)), \"Zone\" => Dict{Any, Any}(\"Absolute\" => Dict{Any, Any}(\"Min\" => 0, \"Max\" => 0), \"Integral\" => Dict{Any, Any}(\"Min\" => 0, \"Max\" => 0))), \"PV\" => Dict{Any, Any}(\"System\" => Dict{Any, Any}(\"Absolute\" => Dict{Any, Any}(\"Min\" => 0, \"Max\" => 0), \"Integral\" => Dict{Any, Any}(\"Min\" => 0, \"Max\" => 0)), \"Zone\" => Dict{Any, Any}(\"Absolute\" => Dict{Any, Any}(\"Min\" => 0, \"Max\" => 0), \"Integral\" => Dict{Any, Any}(\"Min\" => 1, \"Max\" => 0)))), \"UseExtremePeriods\" => 1, \"MinPeriods\" => 40, \"MaxPeriods\" => 45, \"LoadWeight\" => 1, \"ClusterFuelPrices\" => 1, \"nReps\" => 100, \"MultiStageConcatenate\" => 0, \"Threshold\" => 0.05, \"TimestepsPerRepPeriod\" => 168, \"IterateMethod\" => \"cluster\", \"ScalingMethod\" => \"S\", \"ClusterMethod\" => \"kmeans\", \"WeightTotal\" => 8760) \n",
      "Configuring Settings\n",
      "Clustering Time Series Data (Grouped)...\n",
      "Reading Input CSV Files\n",
      "Network.csv Successfully Read!\n",
      "Load_data.csv Successfully Read!\n",
      "Fuels_data.csv Successfully Read!\n",
      "Generators_data.csv Successfully Read!\n",
      "Generators_variability.csv Successfully Read!\n",
      "Validating time basis\n",
      "Capacity_reserve_margin.csv Successfully Read!\n",
      "Minimum_capacity_requirement.csv Successfully Read!\n",
      "Maximum_capacity_requirement.csv Successfully Read!\n",
      "Energy_share_requirement.csv Successfully Read!\n",
      "CO2_cap.csv Successfully Read!\n",
      "CSV Files Successfully Read In From /Users/mayamutic/Desktop/GenX/Tutorials/Example_Systems_Tutorials/SmallNewEngland/OneZone\n",
      "Configuring Solver\n",
      "Loading Inputs\n",
      "Reading Input CSV Files\n",
      "Network.csv Successfully Read!\n",
      "Load_data.csv Successfully Read!\n",
      "Fuels_data.csv Successfully Read!\n",
      "Generators_data.csv Successfully Read!\n",
      "Generators_variability.csv Successfully Read!\n",
      "Validating time basis\n",
      "Capacity_reserve_margin.csv Successfully Read!\n",
      "Minimum_capacity_requirement.csv Successfully Read!\n",
      "Maximum_capacity_requirement.csv Successfully Read!\n",
      "Energy_share_requirement.csv Successfully Read!\n",
      "CO2_cap.csv Successfully Read!\n",
      "CSV Files Successfully Read In From /Users/mayamutic/Desktop/GenX/Tutorials/Example_Systems_Tutorials/SmallNewEngland/OneZone\n",
      "Generating the Optimization Model\n",
      "Discharge Module\n",
      "Non-served Energy Module\n",
      "Investment Discharge Module\n",
      "Unit Commitment Module\n",
      "Emissions Module (for CO2 Policy modularization\n",
      "Dispatchable Resources Module\n",
      "Storage Resources Module\n",
      "Storage Investment Module\n",
      "Storage Core Resources Module\n",
      "Storage Resources with Symmetric Charge/Discharge Capacity Module\n",
      "Thermal (Unit Commitment) Resources Module\n",
      "C02 Policies Module\n",
      "Energy Share Requirement Policies Module\n",
      "Capacity Reserve Margin Policies Module\n",
      "Minimum Capacity Requirement Module\n",
      "Maximum Capacity Requirement Module\n",
      "Time elapsed for model building is\n",
      "0.442539416\n",
      "Solving Model\n",
      "Running HiGHS 1.6.0: Copyright (c) 2023 HiGHS under MIT licence terms\n",
      "Presolving model\n",
      "130819 rows, 63616 cols, 495913 nonzeros\n",
      "126712 rows, 59513 cols, 490467 nonzeros\n",
      "Presolve : Reductions: rows 126712(-21144); columns 59513(-7699); elements 490467(-113443)\n",
      "Solving the presolved LP\n",
      "Using EKK dual simplex solver - serial\n",
      "  Iteration        Objective     Infeasibilities num(sum)\n",
      "          0    -4.0799590786e+00 Ph1: 193(934.922); Du: 24(4.07996) 0s\n",
      "      16714     4.3906924844e+03 Pr: 11099(719484); Du: 0(0.00195892) 5s\n",
      "      21181     4.4127205191e+03 Pr: 15098(402192); Du: 0(0.00948639) 10s\n",
      "      25202     7.1547201990e+03 Pr: 54286(1.12607e+06); Du: 0(0.00126382) 15s\n",
      "      29961     7.9635057797e+03 Pr: 18006(44263.8); Du: 0(0.00142078) 21s\n",
      "      34162     8.6358172357e+03 Pr: 13681(14209.6); Du: 0(0.00182658) 26s\n",
      "      37943     9.0310430341e+03 Pr: 24781(20437.7); Du: 0(0.00181008) 31s\n",
      "      41597     9.3367565809e+03 Pr: 30162(2.94697e+06); Du: 0(0.00219494) 37s\n",
      "      45128     9.5916512785e+03 Pr: 9301(7854.04); Du: 0(0.00263637) 42s\n",
      "      48863     9.8322764632e+03 Pr: 13372(138080); Du: 0(0.00273023) 47s\n",
      "      52704     1.0032169071e+04 Pr: 14021(32859.1); Du: 0(0.00294144) 52s\n",
      "      56558     1.0185166631e+04 Pr: 6176(3032.83); Du: 0(0.00287045) 57s\n",
      "      60323     1.0286779991e+04 Pr: 3911(684.805); Du: 0(0.00239853) 63s\n",
      "      64267     1.0369411997e+04 Pr: 1516(31.0305); Du: 0(0.00234452) 69s\n",
      "      67755     1.0407307535e+04 Pr: 241(2.34634); Du: 0(0.00254341) 74s\n",
      "      68091     1.0407826823e+04 Pr: 0(0); Du: 0(6.26717e-06) 75s\n",
      "Using EKK dual simplex solver - serial\n",
      "  Iteration        Objective     Infeasibilities num(sum)\n",
      "      68091     1.0408704158e+04 Pr: 2(0.0016768); Du: 0(0.00458725) 75s\n",
      "      68094     1.0407826838e+04 Pr: 0(0); Du: 0(8.29527e-15) 75s\n",
      "      68094     1.0407826838e+04 Pr: 0(0); Du: 0(8.29527e-15) 75s\n",
      "Solving the original LP from the solution after postsolve\n",
      "Model   status      : Optimal\n",
      "Simplex   iterations: 68094\n",
      "Objective value     :  1.0407826838e+04\n",
      "HiGHS run time      :         75.59\n",
      "LP solved for primal\n",
      "Writing Output\n",
      "Time elapsed for writing costs is\n",
      "0.052553375\n"
     ]
    },
    {
     "name": "stdout",
     "output_type": "stream",
     "text": [
      "Time elapsed for writing storage is\n",
      "0.013821417\n",
      "Time elapsed for writing nse is\n",
      "0.045045083\n",
      "Time elapsed for writing power balance is\n",
      "0.062496167\n",
      "Time elapsed for writing emissions is\n",
      "0.063440542\n",
      "Time elapsed for writing reliability is\n",
      "0.011118958\n",
      "Time elapsed for writing storage duals is\n",
      "0.014888917\n",
      "Time elapsed for writing commitment is\n",
      "0.01449675\n",
      "Time elapsed for writing startup is\n",
      "0.048956834\n",
      "Time elapsed for writing shutdown is\n",
      "0.049096708\n",
      "Time elapsed for writing time weights is\n",
      "0.001582667\n",
      "Time elapsed for writing reserve margin is\n",
      "0.007514125\n",
      "Time elapsed for writing capacity value is\n",
      "2.684910667\n",
      "Time elapsed for writing net revenue is\n",
      "0.056031208\n",
      "Wrote outputs to /Users/mayamutic/Desktop/GenX/Tutorials/Example_Systems_Tutorials/SmallNewEngland/OneZone/Results_6\n",
      "Time elapsed for writing is\n",
      "6.062879875\n",
      " 82.532306 seconds (27.03 M allocations: 1.469 GiB, 0.34% gc time, 6.46% compilation time)\n"
     ]
    }
   ],
   "source": [
    "# Change MinPeriods and Max Periods, run `Run.jl`\n",
    "\n",
    "min_periods = [4,5,15,30,40]\n",
    "max_periods = [5,10,21,37,45]\n",
    "\n",
    "for i in range(1,5)\n",
    "    print(i)\n",
    "    time_domain_reduction_settings[\"MinPeriods\"] = min_periods[i]\n",
    "    time_domain_reduction_settings[\"MaxPeriods\"] = max_periods[i]\n",
    "    print(time_domain_reduction_settings)\n",
    "    rm(\"Example_Systems_Tutorials/SmallNewEngland/OneZone/TDR_results\", recursive=true) \n",
    "    println(\" \")\n",
    "    YAML.write_file(\"Example_Systems_Tutorials/SmallNewEngland/OneZone/Settings/time_domain_reduction_settings.yml\", time_domain_reduction_settings)\n",
    "    @time include(\"Example_Systems_Tutorials/SmallNewEngland/OneZone/Run.jl\");\n",
    "end\n",
    "\n",
    "    "
   ]
  },
  {
   "cell_type": "code",
   "execution_count": 6,
   "id": "94f83bec",
   "metadata": {},
   "outputs": [
    {
     "data": {
      "text/plain": [
       "23-element Vector{String}:\n",
       " \".DS_Store\"\n",
       " \"CO2_cap.csv\"\n",
       " \"Capacity_reserve_margin.csv\"\n",
       " \"Energy_share_requirement.csv\"\n",
       " \"Fuels_data.csv\"\n",
       " \"Generators_data.csv\"\n",
       " \"Generators_variability.csv\"\n",
       " \"Load_data.csv\"\n",
       " \"Maximum_capacity_requirement.csv\"\n",
       " \"Minimum_capacity_requirement.csv\"\n",
       " \"Network.csv\"\n",
       " \"README.md\"\n",
       " \"Reserves.csv\"\n",
       " \"Results\"\n",
       " \"Results_1\"\n",
       " \"Results_2\"\n",
       " \"Results_3\"\n",
       " \"Results_4\"\n",
       " \"Results_5\"\n",
       " \"Results_6\"\n",
       " \"Run.jl\"\n",
       " \"Settings\"\n",
       " \"TDR_Results\""
      ]
     },
     "execution_count": 6,
     "metadata": {},
     "output_type": "execute_result"
    }
   ],
   "source": [
    "cd(readdir,\"Example_Systems_Tutorials/SmallNewEngland/OneZone\")"
   ]
  },
  {
   "cell_type": "code",
   "execution_count": 7,
   "id": "a20dc09f",
   "metadata": {},
   "outputs": [
    {
     "data": {
      "text/html": [
       "<div><div style = \"float: left;\"><span>1×3 DataFrame</span></div><div style = \"clear: both;\"></div></div><div class = \"data-frame\" style = \"overflow-x: scroll;\"><table class = \"data-frame\" style = \"margin-bottom: 6px;\"><thead><tr class = \"header\"><th class = \"rowNumber\" style = \"font-weight: bold; text-align: right;\">Row</th><th style = \"text-align: left;\">Status</th><th style = \"text-align: left;\">Solve</th><th style = \"text-align: left;\">Objval</th></tr><tr class = \"subheader headerLastRow\"><th class = \"rowNumber\" style = \"font-weight: bold; text-align: right;\"></th><th title = \"String7\" style = \"text-align: left;\">String7</th><th title = \"Float64\" style = \"text-align: left;\">Float64</th><th title = \"Float64\" style = \"text-align: left;\">Float64</th></tr></thead><tbody><tr><td class = \"rowNumber\" style = \"font-weight: bold; text-align: right;\">1</td><td style = \"text-align: left;\">OPTIMAL</td><td style = \"text-align: right;\">75.831</td><td style = \"text-align: right;\">10407.8</td></tr></tbody></table></div>"
      ],
      "text/latex": [
       "\\begin{tabular}{r|ccc}\n",
       "\t& Status & Solve & Objval\\\\\n",
       "\t\\hline\n",
       "\t& String7 & Float64 & Float64\\\\\n",
       "\t\\hline\n",
       "\t1 & OPTIMAL & 75.831 & 10407.8 \\\\\n",
       "\\end{tabular}\n"
      ],
      "text/plain": [
       "\u001b[1m1×3 DataFrame\u001b[0m\n",
       "\u001b[1m Row \u001b[0m│\u001b[1m Status  \u001b[0m\u001b[1m Solve   \u001b[0m\u001b[1m Objval  \u001b[0m\n",
       "     │\u001b[90m String7 \u001b[0m\u001b[90m Float64 \u001b[0m\u001b[90m Float64 \u001b[0m\n",
       "─────┼───────────────────────────\n",
       "   1 │ OPTIMAL   75.831  10407.8"
      ]
     },
     "execution_count": 7,
     "metadata": {},
     "output_type": "execute_result"
    }
   ],
   "source": [
    "# Find objective values from each results folder:\n",
    "\n",
    "OV_RP5 = CSV.read(\"Example_Systems_Tutorials/SmallNewEngland/OneZone/Results_2/status.csv\",DataFrame)\n",
    "OV_RP10 = CSV.read(\"Example_Systems_Tutorials/SmallNewEngland/OneZone/Results_3/status.csv\",DataFrame)\n",
    "OV_RP21 = CSV.read(\"Example_Systems_Tutorials/SmallNewEngland/OneZone/Results_4/status.csv\",DataFrame)\n",
    "OV_RP37 = CSV.read(\"Example_Systems_Tutorials/SmallNewEngland/OneZone/Results_5/status.csv\",DataFrame)\n",
    "OV_RP45 = CSV.read(\"Example_Systems_Tutorials/SmallNewEngland/OneZone/Results_6/status.csv\",DataFrame)"
   ]
  },
  {
   "cell_type": "code",
   "execution_count": 29,
   "id": "846e0bef",
   "metadata": {},
   "outputs": [
    {
     "data": {
      "text/plain": [
       "6×2 Matrix{Float64}:\n",
       "  1.0  10592.9\n",
       "  5.0   8186.24\n",
       " 10.0  10429.3\n",
       " 21.0  11095.3\n",
       " 37.0  10151.1\n",
       " 45.0  10407.8"
      ]
     },
     "execution_count": 29,
     "metadata": {},
     "output_type": "execute_result"
    }
   ],
   "source": [
    "obj_val_tot = [1 OV_noTDR[!,3]; 5 OV_RP5[!,3]; 10 OV_RP10[!,3]; 21 OV_RP21[!,3]; 37 OV_RP37[!,3]; 45 OV_RP45[!,3]]"
   ]
  },
  {
   "cell_type": "code",
   "execution_count": 36,
   "id": "a56bc1dd",
   "metadata": {},
   "outputs": [
    {
     "data": {
      "application/vnd.plotly.v1+json": {
       "data": [
        {
         "colorbar": {
          "len": 0.9525371828521435,
          "title": "",
          "x": 0.9934383202099737,
          "y": 0.513888888888889
         },
         "hoverinfo": "text",
         "legendgroup": "y1",
         "marker": {
          "color": "rgba(0, 154, 250, 1.000)",
          "line": {
           "color": "rgba(0, 0, 0, 1.000)",
           "width": 1
          },
          "size": 8,
          "symbol": "circle"
         },
         "mode": "markers",
         "name": "y1",
         "showlegend": true,
         "text": [
          1,
          5,
          10,
          21,
          37,
          45
         ],
         "type": "scatter",
         "x": [
          1,
          2,
          3,
          4,
          5,
          6
         ],
         "xaxis": "x",
         "y": [
          10592.942276756738,
          8186.241067226412,
          10429.328787498582,
          11095.253882249493,
          10151.084574737495,
          10407.826838430477
         ],
         "yaxis": "y"
        },
        {
         "colorbar": {
          "len": 0.9525371828521435,
          "title": "",
          "x": 0.9934383202099737,
          "y": 0.513888888888889
         },
         "legendgroup": "y2",
         "line": {
          "color": "rgba(227, 111, 71, 1.000)",
          "dash": "solid",
          "shape": "linear",
          "width": 1
         },
         "mode": "lines",
         "name": "y2",
         "showlegend": true,
         "type": "scatter",
         "x": [
          -529.1500000000001,
          536.1500000000001
         ],
         "xaxis": "x",
         "y": [
          10592.942276756738,
          10592.942276756738
         ],
         "yaxis": "y"
        }
       ],
       "layout": {
        "annotations": [],
        "height": 400,
        "margin": {
         "b": 20,
         "l": 0,
         "r": 0,
         "t": 20
        },
        "paper_bgcolor": "rgba(255, 255, 255, 1.000)",
        "plot_bgcolor": "rgba(255, 255, 255, 1.000)",
        "showlegend": false,
        "width": 600,
        "xaxis": {
         "anchor": "y",
         "domain": [
          0.08063575386410031,
          0.9934383202099737
         ],
         "gridcolor": "rgba(0, 0, 0, 0.100)",
         "gridwidth": 0.5,
         "linecolor": "rgba(0, 0, 0, 1.000)",
         "mirror": false,
         "range": [
          0.8499999999999996,
          6.15
         ],
         "showgrid": true,
         "showline": true,
         "showticklabels": true,
         "tickangle": 0,
         "tickcolor": "rgb(0, 0, 0)",
         "tickfont": {
          "color": "rgba(0, 0, 0, 1.000)",
          "family": "sans-serif",
          "size": 11
         },
         "tickmode": "array",
         "ticks": "inside",
         "ticktext": [
          "1",
          "2",
          "3",
          "4",
          "5",
          "6"
         ],
         "tickvals": [
          1,
          2,
          3,
          4,
          5,
          6
         ],
         "title": "",
         "titlefont": {
          "color": "rgba(0, 0, 0, 1.000)",
          "family": "sans-serif",
          "size": 15
         },
         "type": "-",
         "visible": true,
         "zeroline": false,
         "zerolinecolor": "rgba(0, 0, 0, 1.000)"
        },
        "yaxis": {
         "anchor": "x",
         "domain": [
          0.03762029746281716,
          0.9901574803149606
         ],
         "gridcolor": "rgba(0, 0, 0, 0.100)",
         "gridwidth": 0.5,
         "linecolor": "rgba(0, 0, 0, 1.000)",
         "mirror": false,
         "range": [
          8098.97068277572,
          11182.524266700186
         ],
         "showgrid": true,
         "showline": true,
         "showticklabels": true,
         "tickangle": 0,
         "tickcolor": "rgb(0, 0, 0)",
         "tickfont": {
          "color": "rgba(0, 0, 0, 1.000)",
          "family": "sans-serif",
          "size": 11
         },
         "tickmode": "array",
         "ticks": "inside",
         "ticktext": [
          "8500",
          "9000",
          "9500",
          "10000",
          "10500",
          "11000"
         ],
         "tickvals": [
          8500,
          9000,
          9500,
          10000,
          10500,
          11000
         ],
         "title": "",
         "titlefont": {
          "color": "rgba(0, 0, 0, 1.000)",
          "family": "sans-serif",
          "size": 15
         },
         "type": "-",
         "visible": true,
         "zeroline": false,
         "zerolinecolor": "rgba(0, 0, 0, 1.000)"
        }
       }
      },
      "image/png": "[encoded data removed]",
      "image/svg+xml": [
       "<svg class=\"main-svg\" xmlns=\"http://www.w3.org/2000/svg\" xmlns:xlink=\"http://www.w3.org/1999/xlink\" width=\"700\" height=\"500\" style=\"\" viewBox=\"0 0 700 500\"><rect x=\"0\" y=\"0\" width=\"700\" height=\"500\" style=\"fill: rgb(255, 255, 255); fill-opacity: 1;\"/><defs id=\"defs-62d7f4\"><g class=\"clips\"><clipPath id=\"clip62d7f4xyplot\" class=\"plotclip\"><rect width=\"547.681539807524\" height=\"371.48950131233596\"/></clipPath><clipPath class=\"axesclip\" id=\"clip62d7f4x\"><rect x=\"98.38145231846019\" y=\"0\" width=\"547.681539807524\" height=\"500\"/></clipPath><clipPath class=\"axesclip\" id=\"clip62d7f4y\"><rect x=\"0\" y=\"63.83858267716535\" width=\"700\" height=\"371.48950131233596\"/></clipPath><clipPath class=\"axesclip\" id=\"clip62d7f4xy\"><rect x=\"98.38145231846019\" y=\"63.83858267716535\" width=\"547.681539807524\" height=\"371.48950131233596\"/></clipPath></g><g class=\"gradients\"/></defs><g class=\"bglayer\"/><g class=\"layer-below\"><g class=\"imagelayer\"/><g class=\"shapelayer\"/></g><g class=\"cartesianlayer\"><g class=\"subplot xy\"><g class=\"layer-subplot\"><g class=\"shapelayer\"/><g class=\"imagelayer\"/></g><g class=\"gridlayer\"><g class=\"x\"><path class=\"xgrid crisp\" transform=\"translate(113.88145231846019,0)\" d=\"M0,63.83858267716535v371.48950131233596\" style=\"stroke: rgb(0, 0, 0); stroke-opacity: 0.1; stroke-width: 0.5px;\"/><path class=\"xgrid crisp\" transform=\"translate(217.2214523184602,0)\" d=\"M0,63.83858267716535v371.48950131233596\" style=\"stroke: rgb(0, 0, 0); stroke-opacity: 0.1; stroke-width: 0.5px;\"/><path class=\"xgrid crisp\" transform=\"translate(320.5514523184602,0)\" d=\"M0,63.83858267716535v371.48950131233596\" style=\"stroke: rgb(0, 0, 0); stroke-opacity: 0.1; stroke-width: 0.5px;\"/><path class=\"xgrid crisp\" transform=\"translate(423.8914523184602,0)\" d=\"M0,63.83858267716535v371.48950131233596\" style=\"stroke: rgb(0, 0, 0); stroke-opacity: 0.1; stroke-width: 0.5px;\"/><path class=\"xgrid crisp\" transform=\"translate(527.2214523184601,0)\" d=\"M0,63.83858267716535v371.48950131233596\" style=\"stroke: rgb(0, 0, 0); stroke-opacity: 0.1; stroke-width: 0.5px;\"/><path class=\"xgrid crisp\" transform=\"translate(630.5614523184602,0)\" d=\"M0,63.83858267716535v371.48950131233596\" style=\"stroke: rgb(0, 0, 0); stroke-opacity: 0.1; stroke-width: 0.5px;\"/></g><g class=\"y\"><path class=\"ygrid crisp\" transform=\"translate(0,387.01858267716534)\" d=\"M98.38145231846019,0h547.681539807524\" style=\"stroke: rgb(0, 0, 0); stroke-opacity: 0.1; stroke-width: 0.5px;\"/><path class=\"ygrid crisp\" transform=\"translate(0,326.77858267716533)\" d=\"M98.38145231846019,0h547.681539807524\" style=\"stroke: rgb(0, 0, 0); stroke-opacity: 0.1; stroke-width: 0.5px;\"/><path class=\"ygrid crisp\" transform=\"translate(0,266.5385826771653)\" d=\"M98.38145231846019,0h547.681539807524\" style=\"stroke: rgb(0, 0, 0); stroke-opacity: 0.1; stroke-width: 0.5px;\"/><path class=\"ygrid crisp\" transform=\"translate(0,206.29858267716537)\" d=\"M98.38145231846019,0h547.681539807524\" style=\"stroke: rgb(0, 0, 0); stroke-opacity: 0.1; stroke-width: 0.5px;\"/><path class=\"ygrid crisp\" transform=\"translate(0,146.06858267716535)\" d=\"M98.38145231846019,0h547.681539807524\" style=\"stroke: rgb(0, 0, 0); stroke-opacity: 0.1; stroke-width: 0.5px;\"/><path class=\"ygrid crisp\" transform=\"translate(0,85.82858267716534)\" d=\"M98.38145231846019,0h547.681539807524\" style=\"stroke: rgb(0, 0, 0); stroke-opacity: 0.1; stroke-width: 0.5px;\"/></g></g><g class=\"zerolinelayer\"/><path class=\"xlines-below\"/><path class=\"ylines-below\"/><g class=\"overlines-below\"/><g class=\"xaxislayer-below\"/><g class=\"yaxislayer-below\"/><g class=\"overaxes-below\"/><g class=\"plot\" transform=\"translate(98.38145231846019,63.83858267716535)\" clip-path=\"url('#clip62d7f4xyplot')\"><g class=\"scatterlayer mlayer\"><g class=\"trace scatter trace8f6dd8\" style=\"stroke-miterlimit: 2; opacity: 1;\"><g class=\"fills\"/><g class=\"errorbars\"/><g class=\"lines\"/><g class=\"points\"><path class=\"point\" transform=\"translate(15.5,71.03)\" d=\"M4,0A4,4 0 1,1 0,-4A4,4 0 0,1 4,0Z\" style=\"opacity: 1; stroke-width: 1px; fill: rgb(0, 154, 250); fill-opacity: 1; stroke: rgb(0, 0, 0); stroke-opacity: 1;\"/><path class=\"point\" transform=\"translate(118.84,360.98)\" d=\"M4,0A4,4 0 1,1 0,-4A4,4 0 0,1 4,0Z\" style=\"opacity: 1; stroke-width: 1px; fill: rgb(0, 154, 250); fill-opacity: 1; stroke: rgb(0, 0, 0); stroke-opacity: 1;\"/><path class=\"point\" transform=\"translate(222.17,90.74)\" d=\"M4,0A4,4 0 1,1 0,-4A4,4 0 0,1 4,0Z\" style=\"opacity: 1; stroke-width: 1px; fill: rgb(0, 154, 250); fill-opacity: 1; stroke: rgb(0, 0, 0); stroke-opacity: 1;\"/><path class=\"point\" transform=\"translate(325.51,10.51)\" d=\"M4,0A4,4 0 1,1 0,-4A4,4 0 0,1 4,0Z\" style=\"opacity: 1; stroke-width: 1px; fill: rgb(0, 154, 250); fill-opacity: 1; stroke: rgb(0, 0, 0); stroke-opacity: 1;\"/><path class=\"point\" transform=\"translate(428.84,124.26)\" d=\"M4,0A4,4 0 1,1 0,-4A4,4 0 0,1 4,0Z\" style=\"opacity: 1; stroke-width: 1px; fill: rgb(0, 154, 250); fill-opacity: 1; stroke: rgb(0, 0, 0); stroke-opacity: 1;\"/><path class=\"point\" transform=\"translate(532.18,93.33)\" d=\"M4,0A4,4 0 1,1 0,-4A4,4 0 0,1 4,0Z\" style=\"opacity: 1; stroke-width: 1px; fill: rgb(0, 154, 250); fill-opacity: 1; stroke: rgb(0, 0, 0); stroke-opacity: 1;\"/></g><g class=\"text\"/></g><g class=\"trace scatter trace002c49\" style=\"stroke-miterlimit: 2; opacity: 1;\"><g class=\"fills\"/><g class=\"errorbars\"/><g class=\"lines\"><path class=\"js-line\" d=\"M-10953.63079615048,71.03L-10953.630796150479,71.03L11501.312335957999,71.03L11501.312335958004,71.03\" style=\"vector-effect: non-scaling-stroke; fill: none; stroke: rgb(227, 111, 71); stroke-opacity: 1; stroke-width: 1px; opacity: 1;\"/></g><g class=\"points\"/><g class=\"text\"/></g></g></g><g class=\"overplot\"/><path class=\"xlines-above crisp\" d=\"M97.38145231846019,435.8280839895013H646.0629921259842\" style=\"fill: none; stroke-width: 1px; stroke: rgb(0, 0, 0); stroke-opacity: 1;\"/><path class=\"ylines-above crisp\" d=\"M97.88145231846019,63.83858267716535V435.3280839895013\" style=\"fill: none; stroke-width: 1px; stroke: rgb(0, 0, 0); stroke-opacity: 1;\"/><g class=\"overlines-above\"/><g class=\"xaxislayer-above\"><path class=\"xtick ticks crisp\" d=\"M0,435.3280839895013v-5\" transform=\"translate(113.88145231846019,0)\" style=\"stroke: rgb(0, 0, 0); stroke-opacity: 1; stroke-width: 1px;\"/><path class=\"xtick ticks crisp\" d=\"M0,435.3280839895013v-5\" transform=\"translate(217.2214523184602,0)\" style=\"stroke: rgb(0, 0, 0); stroke-opacity: 1; stroke-width: 1px;\"/><path class=\"xtick ticks crisp\" d=\"M0,435.3280839895013v-5\" transform=\"translate(320.5514523184602,0)\" style=\"stroke: rgb(0, 0, 0); stroke-opacity: 1; stroke-width: 1px;\"/><path class=\"xtick ticks crisp\" d=\"M0,435.3280839895013v-5\" transform=\"translate(423.8914523184602,0)\" style=\"stroke: rgb(0, 0, 0); stroke-opacity: 1; stroke-width: 1px;\"/><path class=\"xtick ticks crisp\" d=\"M0,435.3280839895013v-5\" transform=\"translate(527.2214523184601,0)\" style=\"stroke: rgb(0, 0, 0); stroke-opacity: 1; stroke-width: 1px;\"/><path class=\"xtick ticks crisp\" d=\"M0,435.3280839895013v-5\" transform=\"translate(630.5614523184602,0)\" style=\"stroke: rgb(0, 0, 0); stroke-opacity: 1; stroke-width: 1px;\"/><g class=\"xtick\"><text text-anchor=\"middle\" x=\"0\" y=\"449.5280839895013\" transform=\"translate(113.88145231846019,0)\" style=\"font-family: sans-serif; font-size: 11px; fill: rgb(0, 0, 0); fill-opacity: 1; white-space: pre;\">1</text></g><g class=\"xtick\"><text text-anchor=\"middle\" x=\"0\" y=\"449.5280839895013\" transform=\"translate(217.2214523184602,0)\" style=\"font-family: sans-serif; font-size: 11px; fill: rgb(0, 0, 0); fill-opacity: 1; white-space: pre;\">2</text></g><g class=\"xtick\"><text text-anchor=\"middle\" x=\"0\" y=\"449.5280839895013\" transform=\"translate(320.5514523184602,0)\" style=\"font-family: sans-serif; font-size: 11px; fill: rgb(0, 0, 0); fill-opacity: 1; white-space: pre;\">3</text></g><g class=\"xtick\"><text text-anchor=\"middle\" x=\"0\" y=\"449.5280839895013\" transform=\"translate(423.8914523184602,0)\" style=\"font-family: sans-serif; font-size: 11px; fill: rgb(0, 0, 0); fill-opacity: 1; white-space: pre;\">4</text></g><g class=\"xtick\"><text text-anchor=\"middle\" x=\"0\" y=\"449.5280839895013\" transform=\"translate(527.2214523184601,0)\" style=\"font-family: sans-serif; font-size: 11px; fill: rgb(0, 0, 0); fill-opacity: 1; white-space: pre;\">5</text></g><g class=\"xtick\"><text text-anchor=\"middle\" x=\"0\" y=\"449.5280839895013\" transform=\"translate(630.5614523184602,0)\" style=\"font-family: sans-serif; font-size: 11px; fill: rgb(0, 0, 0); fill-opacity: 1; white-space: pre;\">6</text></g></g><g class=\"yaxislayer-above\"><path class=\"ytick ticks crisp\" d=\"M98.38145231846019,0h5\" transform=\"translate(0,387.01858267716534)\" style=\"stroke: rgb(0, 0, 0); stroke-opacity: 1; stroke-width: 1px;\"/><path class=\"ytick ticks crisp\" d=\"M98.38145231846019,0h5\" transform=\"translate(0,326.77858267716533)\" style=\"stroke: rgb(0, 0, 0); stroke-opacity: 1; stroke-width: 1px;\"/><path class=\"ytick ticks crisp\" d=\"M98.38145231846019,0h5\" transform=\"translate(0,266.5385826771653)\" style=\"stroke: rgb(0, 0, 0); stroke-opacity: 1; stroke-width: 1px;\"/><path class=\"ytick ticks crisp\" d=\"M98.38145231846019,0h5\" transform=\"translate(0,206.29858267716537)\" style=\"stroke: rgb(0, 0, 0); stroke-opacity: 1; stroke-width: 1px;\"/><path class=\"ytick ticks crisp\" d=\"M98.38145231846019,0h5\" transform=\"translate(0,146.06858267716535)\" style=\"stroke: rgb(0, 0, 0); stroke-opacity: 1; stroke-width: 1px;\"/><path class=\"ytick ticks crisp\" d=\"M98.38145231846019,0h5\" transform=\"translate(0,85.82858267716534)\" style=\"stroke: rgb(0, 0, 0); stroke-opacity: 1; stroke-width: 1px;\"/><g class=\"ytick\"><text text-anchor=\"end\" x=\"95.18145231846019\" y=\"3.8499999999999996\" transform=\"translate(0,387.01858267716534)\" style=\"font-family: sans-serif; font-size: 11px; fill: rgb(0, 0, 0); fill-opacity: 1; white-space: pre;\">8500</text></g><g class=\"ytick\"><text text-anchor=\"end\" x=\"95.18145231846019\" y=\"3.8499999999999996\" transform=\"translate(0,326.77858267716533)\" style=\"font-family: sans-serif; font-size: 11px; fill: rgb(0, 0, 0); fill-opacity: 1; white-space: pre;\">9000</text></g><g class=\"ytick\"><text text-anchor=\"end\" x=\"95.18145231846019\" y=\"3.8499999999999996\" transform=\"translate(0,266.5385826771653)\" style=\"font-family: sans-serif; font-size: 11px; fill: rgb(0, 0, 0); fill-opacity: 1; white-space: pre;\">9500</text></g><g class=\"ytick\"><text text-anchor=\"end\" x=\"95.18145231846019\" y=\"3.8499999999999996\" transform=\"translate(0,206.29858267716537)\" style=\"font-family: sans-serif; font-size: 11px; fill: rgb(0, 0, 0); fill-opacity: 1; white-space: pre;\">10000</text></g><g class=\"ytick\"><text text-anchor=\"end\" x=\"95.18145231846019\" y=\"3.8499999999999996\" transform=\"translate(0,146.06858267716535)\" style=\"font-family: sans-serif; font-size: 11px; fill: rgb(0, 0, 0); fill-opacity: 1; white-space: pre;\">10500</text></g><g class=\"ytick\"><text text-anchor=\"end\" x=\"95.18145231846019\" y=\"3.8499999999999996\" transform=\"translate(0,85.82858267716534)\" style=\"font-family: sans-serif; font-size: 11px; fill: rgb(0, 0, 0); fill-opacity: 1; white-space: pre;\">11000</text></g></g><g class=\"overaxes-above\"/></g></g><g class=\"polarlayer\"/><g class=\"ternarylayer\"/><g class=\"geolayer\"/><g class=\"funnelarealayer\"/><g class=\"pielayer\"/><g class=\"treemaplayer\"/><g class=\"sunburstlayer\"/><g class=\"glimages\"/><defs id=\"topdefs-62d7f4\"><g class=\"clips\"/></defs><g class=\"layer-above\"><g class=\"imagelayer\"/><g class=\"shapelayer\"/></g><g class=\"infolayer\"><g class=\"g-gtitle\"/><g class=\"g-xtitle\"/><g class=\"g-ytitle\"/></g></svg>"
      ],
      "text/html": [
       "    <div id=\"1dc4c0ee-7f79-497e-82b1-c2b1e15808d4\" style=\"width:600px;height:400px;\"></div>\n",
       "    <script>\n",
       "        requirejs.config({\n",
       "        paths: {\n",
       "            plotly: 'https://cdn.plot.ly/plotly-2.6.3.min'\n",
       "        }\n",
       "    });\n",
       "    require(['plotly'], function (Plotly) {\n",
       "\n",
       "    Plotly.newPlot('1dc4c0ee-7f79-497e-82b1-c2b1e15808d4', [\n",
       "    {\n",
       "        \"showlegend\": true,\n",
       "        \"mode\": \"markers\",\n",
       "        \"xaxis\": \"x\",\n",
       "        \"colorbar\": {\n",
       "            \"y\": 0.513888888888889,\n",
       "            \"title\": \"\",\n",
       "            \"len\": 0.9525371828521435,\n",
       "            \"x\": 0.9934383202099737\n",
       "        },\n",
       "        \"name\": \"y1\",\n",
       "        \"yaxis\": \"y\",\n",
       "        \"text\": [\n",
       "            1.0,\n",
       "            5.0,\n",
       "            10.0,\n",
       "            21.0,\n",
       "            37.0,\n",
       "            45.0\n",
       "        ],\n",
       "        \"legendgroup\": \"y1\",\n",
       "        \"marker\": {\n",
       "            \"symbol\": \"circle\",\n",
       "            \"color\": \"rgba(0, 154, 250, 1.000)\",\n",
       "            \"line\": {\n",
       "                \"color\": \"rgba(0, 0, 0, 1.000)\",\n",
       "                \"width\": 1\n",
       "            },\n",
       "            \"size\": 8\n",
       "        },\n",
       "        \"y\": [\n",
       "            10592.942276756738,\n",
       "            8186.241067226412,\n",
       "            10429.328787498582,\n",
       "            11095.253882249493,\n",
       "            10151.084574737495,\n",
       "            10407.826838430477\n",
       "        ],\n",
       "        \"type\": \"scatter\",\n",
       "        \"hoverinfo\": \"text\",\n",
       "        \"x\": [\n",
       "            1,\n",
       "            2,\n",
       "            3,\n",
       "            4,\n",
       "            5,\n",
       "            6\n",
       "        ]\n",
       "    },\n",
       "    {\n",
       "        \"showlegend\": true,\n",
       "        \"mode\": \"lines\",\n",
       "        \"xaxis\": \"x\",\n",
       "        \"colorbar\": {\n",
       "            \"y\": 0.513888888888889,\n",
       "            \"title\": \"\",\n",
       "            \"len\": 0.9525371828521435,\n",
       "            \"x\": 0.9934383202099737\n",
       "        },\n",
       "        \"name\": \"y2\",\n",
       "        \"yaxis\": \"y\",\n",
       "        \"legendgroup\": \"y2\",\n",
       "        \"line\": {\n",
       "            \"color\": \"rgba(227, 111, 71, 1.000)\",\n",
       "            \"shape\": \"linear\",\n",
       "            \"dash\": \"solid\",\n",
       "            \"width\": 1\n",
       "        },\n",
       "        \"y\": [\n",
       "            10592.942276756738,\n",
       "            10592.942276756738\n",
       "        ],\n",
       "        \"type\": \"scatter\",\n",
       "        \"x\": [\n",
       "            -529.1500000000001,\n",
       "            536.1500000000001\n",
       "        ]\n",
       "    }\n",
       "]\n",
       ", {\n",
       "    \"showlegend\": false,\n",
       "    \"xaxis\": {\n",
       "        \"showticklabels\": true,\n",
       "        \"gridwidth\": 0.5,\n",
       "        \"tickvals\": [\n",
       "            1.0,\n",
       "            2.0,\n",
       "            3.0,\n",
       "            4.0,\n",
       "            5.0,\n",
       "            6.0\n",
       "        ],\n",
       "        \"range\": [\n",
       "            0.8499999999999996,\n",
       "            6.15\n",
       "        ],\n",
       "        \"domain\": [\n",
       "            0.08063575386410031,\n",
       "            0.9934383202099737\n",
       "        ],\n",
       "        \"mirror\": false,\n",
       "        \"tickangle\": 0,\n",
       "        \"showline\": true,\n",
       "        \"ticktext\": [\n",
       "            \"1\",\n",
       "            \"2\",\n",
       "            \"3\",\n",
       "            \"4\",\n",
       "            \"5\",\n",
       "            \"6\"\n",
       "        ],\n",
       "        \"zeroline\": false,\n",
       "        \"tickfont\": {\n",
       "            \"color\": \"rgba(0, 0, 0, 1.000)\",\n",
       "            \"family\": \"sans-serif\",\n",
       "            \"size\": 11\n",
       "        },\n",
       "        \"zerolinecolor\": \"rgba(0, 0, 0, 1.000)\",\n",
       "        \"anchor\": \"y\",\n",
       "        \"visible\": true,\n",
       "        \"ticks\": \"inside\",\n",
       "        \"tickmode\": \"array\",\n",
       "        \"linecolor\": \"rgba(0, 0, 0, 1.000)\",\n",
       "        \"showgrid\": true,\n",
       "        \"title\": \"\",\n",
       "        \"gridcolor\": \"rgba(0, 0, 0, 0.100)\",\n",
       "        \"titlefont\": {\n",
       "            \"color\": \"rgba(0, 0, 0, 1.000)\",\n",
       "            \"family\": \"sans-serif\",\n",
       "            \"size\": 15\n",
       "        },\n",
       "        \"tickcolor\": \"rgb(0, 0, 0)\",\n",
       "        \"type\": \"-\"\n",
       "    },\n",
       "    \"paper_bgcolor\": \"rgba(255, 255, 255, 1.000)\",\n",
       "    \"annotations\": [],\n",
       "    \"height\": 400,\n",
       "    \"margin\": {\n",
       "        \"l\": 0,\n",
       "        \"b\": 20,\n",
       "        \"r\": 0,\n",
       "        \"t\": 20\n",
       "    },\n",
       "    \"plot_bgcolor\": \"rgba(255, 255, 255, 1.000)\",\n",
       "    \"yaxis\": {\n",
       "        \"showticklabels\": true,\n",
       "        \"gridwidth\": 0.5,\n",
       "        \"tickvals\": [\n",
       "            8500.0,\n",
       "            9000.0,\n",
       "            9500.0,\n",
       "            10000.0,\n",
       "            10500.0,\n",
       "            11000.0\n",
       "        ],\n",
       "        \"range\": [\n",
       "            8098.97068277572,\n",
       "            11182.524266700186\n",
       "        ],\n",
       "        \"domain\": [\n",
       "            0.03762029746281716,\n",
       "            0.9901574803149606\n",
       "        ],\n",
       "        \"mirror\": false,\n",
       "        \"tickangle\": 0,\n",
       "        \"showline\": true,\n",
       "        \"ticktext\": [\n",
       "            \"8500\",\n",
       "            \"9000\",\n",
       "            \"9500\",\n",
       "            \"10000\",\n",
       "            \"10500\",\n",
       "            \"11000\"\n",
       "        ],\n",
       "        \"zeroline\": false,\n",
       "        \"tickfont\": {\n",
       "            \"color\": \"rgba(0, 0, 0, 1.000)\",\n",
       "            \"family\": \"sans-serif\",\n",
       "            \"size\": 11\n",
       "        },\n",
       "        \"zerolinecolor\": \"rgba(0, 0, 0, 1.000)\",\n",
       "        \"anchor\": \"x\",\n",
       "        \"visible\": true,\n",
       "        \"ticks\": \"inside\",\n",
       "        \"tickmode\": \"array\",\n",
       "        \"linecolor\": \"rgba(0, 0, 0, 1.000)\",\n",
       "        \"showgrid\": true,\n",
       "        \"title\": \"\",\n",
       "        \"gridcolor\": \"rgba(0, 0, 0, 0.100)\",\n",
       "        \"titlefont\": {\n",
       "            \"color\": \"rgba(0, 0, 0, 1.000)\",\n",
       "            \"family\": \"sans-serif\",\n",
       "            \"size\": 15\n",
       "        },\n",
       "        \"tickcolor\": \"rgb(0, 0, 0)\",\n",
       "        \"type\": \"-\"\n",
       "    },\n",
       "    \"width\": 600\n",
       "}\n",
       ");\n",
       "    });\n",
       "    </script>\n"
      ]
     },
     "execution_count": 36,
     "metadata": {},
     "output_type": "execute_result"
    }
   ],
   "source": [
    "plotlyjs()\n",
    "Plots.scatter(obj_val_tot[:,2],hover=obj_val_tot[:,1],legend=false)\n",
    "#Plots.path(x->OV_noTDR)\n",
    "hline!(OV_noTDR[!,3])"
   ]
  },
  {
   "cell_type": "code",
   "execution_count": null,
   "id": "97de59e3",
   "metadata": {},
   "outputs": [],
   "source": []
  }
 ],
 "metadata": {
  "@webio": {
   "lastCommId": "8ca7eff93fbc45f18f56e824deadfde2",
   "lastKernelId": "4ac939c3-6341-4323-b5ac-2df01b137ef8"
  },
  "kernelspec": {
   "display_name": "Julia 1.9.2",
   "language": "julia",
   "name": "julia-1.9"
  },
  "language_info": {
   "file_extension": ".jl",
   "mimetype": "application/julia",
   "name": "julia",
   "version": "1.9.2"
  }
 },
 "nbformat": 4,
 "nbformat_minor": 5
}
