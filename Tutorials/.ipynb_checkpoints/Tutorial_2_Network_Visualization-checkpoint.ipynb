{
 "cells": [
  {
   "cell_type": "markdown",
   "id": "3ce667ff",
   "metadata": {},
   "source": [
    "# Tutorial 2: Network Visualization"
   ]
  },
  {
   "cell_type": "markdown",
   "id": "71b0f263",
   "metadata": {},
   "source": [
    "To run GenX, there are five mandatory input files: `Fuels_data.csv`, `Network.csv`, `Load_data.csv`, `Generators_variability.csv`, and `Generators_data.csv`. Detailed descriptions of these files can be found <a href=\"https://genxproject.github.io/GenX/dev/data_documentation/\" target=\"_blank\">here</a> in the documentation under \"Inputs\". This tutorial helps visualize the file `Network.csv` using the example system `SmallNewEngland/ThreeZones`."
   ]
  },
  {
   "cell_type": "code",
   "execution_count": null,
   "id": "fa98763b",
   "metadata": {},
   "outputs": [],
   "source": [
    "using Plots\n",
    "using PlotlyJS\n",
    "using CSV\n",
    "using DataFrames"
   ]
  },
  {
   "cell_type": "markdown",
   "id": "d5f37531",
   "metadata": {},
   "source": [
    "The input file `Network.csv` contains the nodes of your network, how they connect to each other, and some important features about them. Below is the network file for `SmallNewEngland/ThreeZones`:"
   ]
  },
  {
   "cell_type": "code",
   "execution_count": null,
   "id": "bcaa924c",
   "metadata": {},
   "outputs": [],
   "source": [
    "network = CSV.read(\"Example_Systems_Tutorials/SmallNewEngland/ThreeZones/Network.csv\",DataFrame,missingstring=\"NA\")"
   ]
  },
  {
   "cell_type": "markdown",
   "id": "b9aafe7b",
   "metadata": {},
   "source": [
    "Here, MA, CT, and ME are the abbreviations for states Massachusetts, Connecticut, and Maine. However, since the US region of New England contains other states as well, ME in this case is also used to refer to those states."
   ]
  },
  {
   "cell_type": "markdown",
   "id": "ca18429c",
   "metadata": {},
   "source": [
    "Columns `z1, z2, z3` specify an adjacency matrix forming the network of the three regions. In this case, there are only two network lines, specified in the `Network_Lines` columns. The `z1` column indicates that the first node, MA, is the source of both lines as both rows have value 1. Columns `z2` and `z3` both have values of -1, which  means both nodes CT and ME recieve energy from node MA:"
   ]
  },
  {
   "cell_type": "markdown",
   "id": "6a52eb00",
   "metadata": {},
   "source": [
    "<img src=\"files/new_england.png\" align=\"left\">"
   ]
  },
  {
   "cell_type": "code",
   "execution_count": null,
   "id": "d89f8c96",
   "metadata": {},
   "outputs": [],
   "source": []
  }
 ],
 "metadata": {
  "@webio": {
   "lastCommId": null,
   "lastKernelId": null
  },
  "kernelspec": {
   "display_name": "Julia 1.9.2",
   "language": "julia",
   "name": "julia-1.9"
  },
  "language_info": {
   "file_extension": ".jl",
   "mimetype": "application/julia",
   "name": "julia",
   "version": "1.9.2"
  }
 },
 "nbformat": 4,
 "nbformat_minor": 5
}
